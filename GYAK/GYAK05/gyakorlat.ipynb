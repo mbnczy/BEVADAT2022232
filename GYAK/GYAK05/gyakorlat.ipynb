{
 "cells": [
  {
   "cell_type": "code",
   "execution_count": 2,
   "metadata": {},
   "outputs": [],
   "source": [
    "#%pip install scipy\n",
    "#%pip install seaborn\n",
    "\n",
    "import numpy as np\n",
    "from typing import Tuple\n",
    "from scipy.stats import mode\n",
    "from sklearn.metrics import confusion_matrix\n",
    "import seaborn as sns\n",
    "csv_path = \"iris.csv\""
   ]
  },
  {
   "attachments": {},
   "cell_type": "markdown",
   "metadata": {},
   "source": [
    "Load data and clean, try loading without shuffle"
   ]
  },
  {
   "cell_type": "code",
   "execution_count": 3,
   "metadata": {},
   "outputs": [],
   "source": [
    "def load_csv(csv_path:str) -> Tuple[np.ndarray,np.ndarray]:\n",
    "    np.random.seed(42)\n",
    "    dataset = np.genfromtxt(csv_path,delimiter=',')\n",
    "    np.random.shuffle(dataset,)\n",
    "    x,y = dataset[:,:4],dataset[:,-1]\n",
    "    return x,y"
   ]
  },
  {
   "cell_type": "code",
   "execution_count": 4,
   "metadata": {},
   "outputs": [
    {
     "data": {
      "text/plain": [
       "(array([[ 6.100e+00,  2.800e+00,  4.700e+00,  1.200e+00],\n",
       "        [ 5.700e+00,  3.800e+00,  1.700e+00,  3.000e-01],\n",
       "        [ 7.700e+00,  2.600e+00,  6.900e+00,  2.300e+00],\n",
       "        [ 6.000e+00,  2.900e+00,  4.500e+00,  1.500e+00],\n",
       "        [ 6.800e+00,  2.800e+00, -1.111e+03,  1.400e+00],\n",
       "        [ 5.400e+00,  3.400e+00,  1.500e+00,  4.000e-01],\n",
       "        [ 5.600e+00,  2.900e+00,  3.600e+00,  1.300e+00],\n",
       "        [ 6.900e+00,  3.100e+00,  5.100e+00,  2.300e+00],\n",
       "        [ 6.200e+00,  2.200e+00,  4.500e+00,  1.500e+00],\n",
       "        [ 5.800e+00,  2.700e+00,  3.900e+00,  1.200e+00],\n",
       "        [ 6.500e+00,  3.200e+00,  5.100e+00,  2.000e+00],\n",
       "        [ 4.800e+00,  3.000e+00,  1.400e+00,  1.000e-01],\n",
       "        [ 5.500e+00,  3.500e+00,        nan,  2.000e-01],\n",
       "        [ 4.900e+00,  3.100e+00,  1.500e+00,  1.000e-01],\n",
       "        [ 5.100e+00,  1.000e+02,  1.500e+00,  3.000e-01],\n",
       "        [ 6.300e+00,  3.300e+00,  4.700e+00,  1.600e+00],\n",
       "        [ 6.500e+00,  3.000e+00,  5.800e+00,  2.200e+00],\n",
       "        [ 5.600e+00,  2.500e+00,  3.900e+00,  1.100e+00],\n",
       "        [       nan,  2.800e+00,  4.500e+00,        nan],\n",
       "        [ 6.400e+00,        nan,  5.600e+00,  2.200e+00],\n",
       "        [ 4.700e+00,  3.200e+00,  1.600e+00,  2.000e-01],\n",
       "        [ 6.100e+00,  3.000e+00,  4.900e+00,  1.800e+00],\n",
       "        [ 5.000e+00,  3.400e+00,  1.600e+00,  4.000e-01],\n",
       "        [ 6.400e+00,  2.800e+00,  5.600e+00,  2.100e+00],\n",
       "        [ 7.900e+00,  3.800e+00,  6.400e+00,  2.000e+00],\n",
       "        [ 6.700e+00,  3.000e+00,  5.200e+00,  2.300e+00],\n",
       "        [ 6.700e+00,  2.500e+00,  5.800e+00,  1.800e+00],\n",
       "        [ 6.800e+00,  3.200e+00,  1.000e+03,  2.300e+00],\n",
       "        [ 5.000e+04,  3.000e+00,  1.400e+00,  3.000e-01],\n",
       "        [ 4.800e+00,  3.100e+00,  1.600e+00,  2.000e-01],\n",
       "        [ 4.600e+00,  3.600e+00,  1.000e+00,  2.000e-01],\n",
       "        [ 5.700e+00,  4.400e+00,  1.500e+00,  4.000e-01],\n",
       "        [ 6.700e+00,  3.100e+00,  4.400e+00,  1.400e+00],\n",
       "        [       nan,  3.400e+00,  1.600e+00,  2.000e-01],\n",
       "        [ 4.400e+00,  3.200e+00,  1.300e+00,  2.000e-01],\n",
       "        [ 6.300e+00,  2.500e+00,  5.000e+00,  1.900e+00],\n",
       "        [ 6.400e+00,  3.200e+00,  4.500e+00,  1.500e+00],\n",
       "        [ 5.200e+00,  3.500e+00,  1.500e+00,  2.000e-01],\n",
       "        [ 5.000e+00,  3.600e+00,  1.400e+00,  2.000e-01],\n",
       "        [ 5.200e+00,  4.100e+00,  1.500e+00,  1.000e-01],\n",
       "        [ 5.800e+00,  2.700e+00,  5.100e+00,  1.900e+00],\n",
       "        [ 6.000e+00,  3.400e+00,  4.500e+00,  1.600e+00],\n",
       "        [ 6.700e+00,  3.100e+00,  4.700e+00,  1.500e+00],\n",
       "        [ 5.400e+00,  3.900e+00,  1.300e+00,  4.000e-01],\n",
       "        [ 5.400e+00,  3.700e+00,  1.500e+00,  2.000e-01],\n",
       "        [ 5.500e+00,  2.400e+00,  3.700e+00,  1.000e+00],\n",
       "        [ 6.300e+00,  2.800e+00,  5.100e+00,  1.500e+00],\n",
       "        [ 6.400e+00,  3.100e+00,  5.500e+00,  1.800e+00],\n",
       "        [ 6.600e+00,  3.000e+00,  4.400e+00,  1.400e+00],\n",
       "        [ 7.200e+00,  3.600e+00,  6.100e+00,  2.500e+00],\n",
       "        [ 5.700e+00,  2.900e+00,  4.200e+00,  1.300e+00],\n",
       "        [ 7.600e+00,  3.000e+00,  6.600e+00,  2.100e+00],\n",
       "        [       nan,  3.000e+00,  4.500e+00,  1.500e+00],\n",
       "        [ 5.100e+00,  3.500e+00,  1.400e+00,  2.000e-01],\n",
       "        [ 7.700e+00,  2.800e+00,  6.700e+00,  2.000e+00],\n",
       "        [ 5.800e+00,  2.700e+00,  4.100e+00,  1.000e+00],\n",
       "        [ 5.200e+00,  3.400e+00,  1.400e+00,  2.000e-01],\n",
       "        [ 5.000e+00,  3.500e+00,  1.300e+00,  3.000e-01],\n",
       "        [ 5.100e+00,  3.800e+00,  1.900e+00,  4.000e-01],\n",
       "        [ 5.000e+00,  2.000e+00,  3.500e+00,  1.000e+00],\n",
       "        [ 6.300e+00,  2.700e+00,  4.900e+00,  1.800e+00],\n",
       "        [ 4.800e+00,  3.400e+00,  1.900e+00,  2.000e-01],\n",
       "        [ 5.000e+00,  3.000e+00,  1.600e+00,  3.000e+03],\n",
       "        [       nan,  3.300e+00,  1.700e+00,  5.000e-01],\n",
       "        [ 5.600e+00,  2.700e+00,        nan,  1.300e+00],\n",
       "        [ 5.100e+00,  3.400e+00,  1.500e+00,  2.000e-01],\n",
       "        [ 5.700e+00,  3.000e+00,  4.200e+00,  1.200e+00],\n",
       "        [ 7.700e+00,  3.800e+00,  6.700e+00,  2.200e+00],\n",
       "        [ 4.600e+00,  3.200e+00,  1.400e+00,  2.000e-01],\n",
       "        [ 6.200e+00,  2.900e+00,  4.300e+00,  1.300e+00],\n",
       "        [ 5.700e+00,  2.500e+00,  5.000e+00,  2.000e+00],\n",
       "        [ 5.500e+00,  4.200e+00,  1.400e+00,  2.000e-01],\n",
       "        [ 6.000e+00,  3.000e+00,  4.800e+00,        nan],\n",
       "        [ 5.800e+00,  2.700e+00,  5.100e+00,  1.900e+00],\n",
       "        [ 6.000e+00,  2.200e+00,  4.000e+00,  1.000e+00],\n",
       "        [ 5.400e+00,  3.000e+00,  4.500e+00,  1.500e+00],\n",
       "        [       nan,  3.400e+00,  5.400e+00,  2.300e+00],\n",
       "        [ 5.500e+00,  2.300e+00,  4.000e+00,  1.300e+00],\n",
       "        [ 5.400e+00,  3.900e+00,  1.700e+00,        nan],\n",
       "        [ 5.000e+00,  2.300e+00,  3.300e+00,  1.000e+00],\n",
       "        [ 6.400e+00,  2.700e+00,  5.300e+00,  1.900e+00],\n",
       "        [ 5.000e+00,  3.300e+00,  1.400e+00,  2.000e-01],\n",
       "        [ 5.000e+00,  3.200e+00,  1.200e+00,  2.000e-01],\n",
       "        [ 5.500e+00,  2.400e+00,  3.800e+00,  1.100e+00],\n",
       "        [ 6.700e+00,  3.000e+00,  5.000e+00,  1.700e+00],\n",
       "        [ 4.900e+00,  3.100e+00,  1.500e+00,  1.000e-01],\n",
       "        [ 5.800e+00,  2.800e+00,  5.100e+00,  2.400e+00],\n",
       "        [ 5.000e+00,  3.400e+00,  1.500e+00,  2.000e-01],\n",
       "        [ 5.000e+00,  3.500e+00,  1.600e+00,  6.000e-01],\n",
       "        [ 5.900e+00,  3.200e+00,  4.800e+00,  1.800e+00],\n",
       "        [ 5.100e+00,  2.500e+00,  3.000e+00,  1.100e+00],\n",
       "        [ 6.900e+00,  3.200e+00,  5.700e+00,  2.300e+00],\n",
       "        [ 6.000e+00,  2.700e+00,  5.100e+00,  1.600e+00],\n",
       "        [ 6.100e+00,  2.600e+00,  5.600e+00,  1.400e+00],\n",
       "        [ 7.700e+00,  3.000e+00,  6.100e+00,  2.300e+00],\n",
       "        [ 5.500e+00,  2.500e+00,  4.000e+00,  1.300e+00],\n",
       "        [ 4.400e+00,  2.900e+00,  1.400e+00,  2.000e-01],\n",
       "        [ 4.300e+00,  3.000e+00,  1.100e+00,  1.000e-01],\n",
       "        [ 6.000e+00,  2.200e+00,  5.000e+00,  1.500e+00],\n",
       "        [ 7.200e+00,  3.200e+00,  6.000e+00,  1.800e+00],\n",
       "        [ 4.600e+00,  3.100e+00,  1.500e+00,  2.000e-01],\n",
       "        [ 5.100e+00,  3.500e+00,  1.400e+00,  3.000e-01],\n",
       "        [ 4.400e+00,  3.000e+00,  1.300e+00,  2.000e-01],\n",
       "        [ 6.300e+00,  2.500e+00,  4.900e+00,  1.500e+00],\n",
       "        [ 6.300e+00,  3.400e+00,  5.600e+00,  2.400e+00],\n",
       "        [ 4.600e+00,  3.400e+00,  1.400e+00,  3.000e-01],\n",
       "        [ 6.800e+00,  3.000e+00,  5.500e+00,  2.100e+00],\n",
       "        [ 6.300e+00,  3.300e+00,  6.000e+00,  2.500e+00],\n",
       "        [ 4.700e+00,  3.200e+00,  1.300e+00,  2.000e-01],\n",
       "        [ 6.100e+00,  2.900e+00,  4.700e+00,  1.400e+00],\n",
       "        [ 6.500e+00,  2.800e+00,  4.600e+00,  1.500e+00],\n",
       "        [ 6.200e+00,  2.800e+00,  4.800e+00,  1.800e+00],\n",
       "        [ 7.000e+00,  3.200e+00,  4.700e+00,  1.400e+00],\n",
       "        [ 6.400e+00,  3.200e+00,  5.300e+00,  2.300e+00],\n",
       "        [ 5.100e+00,  3.800e+00,  1.600e+00,  2.000e-01],\n",
       "        [ 6.900e+00,  3.100e+00,  5.400e+00,  2.100e+00],\n",
       "        [ 5.900e+00,  3.000e+00,  4.200e+00,  1.500e+00],\n",
       "        [ 6.500e+00,  3.000e+00,  5.200e+00,  2.000e+00],\n",
       "        [ 5.700e+00,  2.600e+00,  3.500e+00,        nan],\n",
       "        [ 5.200e+00,  2.700e+00,  3.900e+00,  1.400e+00],\n",
       "        [       nan,  3.000e+00,  4.600e+00,  1.400e+00],\n",
       "        [ 4.500e+00,  2.300e+00,  1.300e+00,  3.000e-01],\n",
       "        [ 6.600e+00,  2.900e+00,  4.600e+00,  1.300e+00],\n",
       "        [ 5.500e+00,  2.600e+00,  4.400e+00,  1.200e+00],\n",
       "        [ 5.300e+00,  3.700e+00,  1.500e+00,  2.000e-01],\n",
       "        [ 5.600e+00,  3.000e+00,  4.100e+00,  1.300e+00],\n",
       "        [ 7.300e+00,  2.900e+00,  6.300e+00,  1.800e+00],\n",
       "        [ 6.700e+00,  3.300e+00,  5.700e+00,  2.100e+00],\n",
       "        [ 5.100e+00,  3.700e+00,  1.500e+00,  4.000e-01],\n",
       "        [ 4.900e+00,  2.400e+00,  3.300e+00,  1.000e+00],\n",
       "        [ 6.700e+00,  3.300e+00,  5.700e+00,  2.500e+00],\n",
       "        [ 7.200e+00,  3.000e+00,  5.800e+00,  1.600e+00],\n",
       "        [ 4.900e+00,  3.100e+00,  1.500e+00,  1.000e-01],\n",
       "        [       nan,  3.100e+00,  5.600e+00,  2.400e+00],\n",
       "        [ 4.900e+00,  3.000e+00,  1.400e+00,  2.000e-01],\n",
       "        [ 6.900e+00,  3.100e+00,  4.900e+00,  1.500e+00],\n",
       "        [ 7.400e+00,  2.800e+00,  6.100e+00,  1.900e+00],\n",
       "        [ 6.300e+00,  2.900e+00,  5.600e+00,  1.800e+00],\n",
       "        [ 5.700e+00,  2.800e+00,  4.100e+00,  1.300e+00],\n",
       "        [ 6.500e+00,  3.000e+00,  5.500e+00,  1.800e+00],\n",
       "        [ 6.300e+00, -4.200e+04,  4.400e+00,  1.300e+00],\n",
       "        [ 6.400e+00,  2.900e+00,  4.300e+00,  1.300e+00],\n",
       "        [ 5.600e+00,        nan,  4.900e+00,  2.000e+00],\n",
       "        [ 5.900e+00,  3.000e+00,  5.100e+00,  1.800e+00],\n",
       "        [ 5.400e+00,  3.400e+00,  1.700e+00,  2.000e-01],\n",
       "        [ 6.100e+00,  2.800e+00,  4.000e+00,  1.300e+00],\n",
       "        [ 4.900e+00,  2.500e+00,  4.500e+00,  1.700e+00],\n",
       "        [ 5.800e+00,  4.000e+00,  1.200e+00,  2.000e-01],\n",
       "        [ 5.800e+00,  2.600e+00,  4.000e+00,  1.200e+00],\n",
       "        [ 7.100e+00,  3.000e+00,  5.900e+00,  2.100e+00]]),\n",
       " array([1., 0., 2., 1., 1., 0., 1., 2., 1., 1., 2., 0., 0., 0., 0., 1., 2.,\n",
       "        1., 1., 2., 0., 2., 0., 2., 2., 2., 2., 2., 0., 0., 0., 0., 1., 0.,\n",
       "        0., 2., 1., 0., 0., 0., 2., 1., 1., 0., 0., 1., 2., 2., 1., 2., 1.,\n",
       "        2., 1., 0., 2., 1., 0., 0., 0., 1., 2., 0., 0., 0., 1., 0., 1., 2.,\n",
       "        0., 1., 2., 0., 2., 2., 1., 1., 2., 1., 0., 1., 2., 0., 0., 1., 1.,\n",
       "        0., 2., 0., 0., 1., 1., 2., 1., 2., 2., 1., 0., 0., 2., 2., 0., 0.,\n",
       "        0., 1., 2., 0., 2., 2., 0., 1., 1., 2., 1., 2., 0., 2., 1., 2., 1.,\n",
       "        1., 1., 0., 1., 1., 0., 1., 2., 2., 0., 1., 2., 2., 0., 2., 0., 1.,\n",
       "        2., 2., 1., 2., 1., 1., 2., 2., 0., 1., 2., 0., 1., 2.]))"
      ]
     },
     "execution_count": 4,
     "metadata": {},
     "output_type": "execute_result"
    }
   ],
   "source": [
    "x,y = load_csv(csv_path)\n",
    "x,y"
   ]
  },
  {
   "cell_type": "code",
   "execution_count": 4,
   "metadata": {},
   "outputs": [
    {
     "data": {
      "text/plain": [
       "(array([nan, nan, nan, nan]), array([nan, nan, nan, nan]))"
      ]
     },
     "execution_count": 4,
     "metadata": {},
     "output_type": "execute_result"
    }
   ],
   "source": [
    "np.mean(x,axis=0),np.var(x, axis=0)"
   ]
  },
  {
   "cell_type": "code",
   "execution_count": 5,
   "metadata": {},
   "outputs": [
    {
     "data": {
      "text/plain": [
       "(array([ 355.46503497, -280.09189189,    2.95      ,   21.74726027]),\n",
       " array([1.73561968e+07, 1.18405444e+07, 1.51049922e+04, 6.11729208e+04]))"
      ]
     },
     "execution_count": 5,
     "metadata": {},
     "output_type": "execute_result"
    }
   ],
   "source": [
    "np.nanmean(x,axis=0),np.nanvar(x, axis=0) "
   ]
  },
  {
   "cell_type": "code",
   "execution_count": null,
   "metadata": {},
   "outputs": [],
   "source": [
    "x[np.isnan(x)] = 3.5"
   ]
  },
  {
   "cell_type": "code",
   "execution_count": 5,
   "metadata": {},
   "outputs": [
    {
     "data": {
      "text/plain": [
       "(4, 2)"
      ]
     },
     "execution_count": 5,
     "metadata": {},
     "output_type": "execute_result"
    }
   ],
   "source": [
    "(x>10.0).sum(),(x<0.0).sum()"
   ]
  },
  {
   "cell_type": "code",
   "execution_count": 1,
   "metadata": {},
   "outputs": [
    {
     "ename": "NameError",
     "evalue": "name 'np' is not defined",
     "output_type": "error",
     "traceback": [
      "\u001b[0;31m---------------------------------------------------------------------------\u001b[0m",
      "\u001b[0;31mNameError\u001b[0m                                 Traceback (most recent call last)",
      "Cell \u001b[0;32mIn[1], line 1\u001b[0m\n\u001b[0;32m----> 1\u001b[0m np\u001b[39m.\u001b[39msum(np\u001b[39m.\u001b[39mlogical_or(x\u001b[39m>\u001b[39m\u001b[39m10.0\u001b[39m,x\u001b[39m<\u001b[39m\u001b[39m0.0\u001b[39m))\n",
      "\u001b[0;31mNameError\u001b[0m: name 'np' is not defined"
     ]
    }
   ],
   "source": [
    "np.sum(np.logical_or(x>10.0,x<0.0))"
   ]
  },
  {
   "cell_type": "code",
   "execution_count": 13,
   "metadata": {},
   "outputs": [
    {
     "data": {
      "text/plain": [
       "array([ -1111.,    100.,   1000.,  50000.,   3000., -42000.])"
      ]
     },
     "execution_count": 13,
     "metadata": {},
     "output_type": "execute_result"
    }
   ],
   "source": [
    "x[np.where(np.logical_or(x>10.0,x<0.0))]"
   ]
  },
  {
   "cell_type": "code",
   "execution_count": 14,
   "metadata": {},
   "outputs": [
    {
     "data": {
      "text/plain": [
       "((array([  4, 140]), array([2, 1])),\n",
       " (array([14, 27, 28, 62]), array([1, 2, 0, 3])))"
      ]
     },
     "execution_count": 14,
     "metadata": {},
     "output_type": "execute_result"
    }
   ],
   "source": [
    "less_then = np.where(x<0.0)\n",
    "higher_then = np.where(x>10.0)\n",
    "less_then,higher_then"
   ]
  },
  {
   "cell_type": "code",
   "execution_count": 15,
   "metadata": {},
   "outputs": [
    {
     "data": {
      "text/plain": [
       "((144, 4), (148,))"
      ]
     },
     "execution_count": 15,
     "metadata": {},
     "output_type": "execute_result"
    }
   ],
   "source": [
    "y = np.delete(y,np.where(x<0.0)[0],axis=0)\n",
    "x = np.delete(x,np.where(x>10.0)[0],axis=0)\n",
    "y = np.delete(y,np.where(x>10.0)[0],axis=0)\n",
    "x = np.delete(x,np.where(x<0.0)[0],axis=0)\n",
    "x.shape,y.shape"
   ]
  },
  {
   "attachments": {},
   "cell_type": "markdown",
   "metadata": {},
   "source": [
    "Train test split try optim"
   ]
  },
  {
   "cell_type": "code",
   "execution_count": 6,
   "metadata": {},
   "outputs": [],
   "source": [
    "def train_test_split(features:np.ndarray,\n",
    "                      labels:np.ndarray,\n",
    "                      test_split_ratio:float) -> None:\n",
    "    test_size = int(len(features) * test_split_ratio)\n",
    "    train_size = len(features) - test_size\n",
    "    assert len(features) == test_size + train_size, \"size mismatch!\"\n",
    "    x_train,y_train = features[:train_size,:],labels[:train_size]\n",
    "    x_test,y_test = features[train_size:,:],labels[train_size:]\n",
    "    return (x_train,y_train,x_test,y_test)"
   ]
  },
  {
   "attachments": {},
   "cell_type": "markdown",
   "metadata": {},
   "source": [
    "Distance"
   ]
  },
  {
   "cell_type": "code",
   "execution_count": 7,
   "metadata": {},
   "outputs": [],
   "source": [
    "x_train,y_train,x_test,y_test = train_test_split(x,y,0.2)"
   ]
  },
  {
   "attachments": {},
   "cell_type": "markdown",
   "metadata": {},
   "source": [
    "Distance"
   ]
  },
  {
   "cell_type": "code",
   "execution_count": 11,
   "metadata": {},
   "outputs": [],
   "source": [
    "def euclidean(points:np.ndarray,element_of_x:np.ndarray):\n",
    "    return np.sqrt(np.sum((points-element_of_x)**2,axis=1))"
   ]
  },
  {
   "cell_type": "markdown",
   "metadata": {},
   "source": [
    "Predict func"
   ]
  },
  {
   "cell_type": "code",
   "execution_count": 8,
   "metadata": {},
   "outputs": [],
   "source": [
    "def predict(x_train,y_train,x_test,k:int) -> np.ndarray:\n",
    "    labels_pred=[]\n",
    "    for x_test_element in x_test:\n",
    "        distances = euclidean(x_train,x_test_element)\n",
    "        distances = np.array(sorted(zip(distances,y_train)))\n",
    "        label_pred = mode(distances[:k,1],keepdims=False).mode\n",
    "        labels_pred.append(label_pred)\n",
    "    return np.array(labels_pred,dtype=np.int32)"
   ]
  },
  {
   "cell_type": "code",
   "execution_count": 14,
   "metadata": {},
   "outputs": [
    {
     "data": {
      "text/plain": [
       "array([0, 0, 1, 1, 0, 1, 2, 2, 0, 1, 2, 2, 0, 0, 0, 1, 2, 2, 1, 2, 1, 1,\n",
       "       0, 2, 0, 1, 1, 0, 1, 2], dtype=int32)"
      ]
     },
     "execution_count": 14,
     "metadata": {},
     "output_type": "execute_result"
    }
   ],
   "source": [
    "predict(x_train,y_train,x_test,k=3)"
   ]
  },
  {
   "attachments": {},
   "cell_type": "markdown",
   "metadata": {},
   "source": [
    "Metrics"
   ]
  },
  {
   "cell_type": "code",
   "execution_count": 15,
   "metadata": {},
   "outputs": [],
   "source": [
    "def accuracy(y_test:np.ndarray,y_preds:np.ndarray) -> float:\n",
    "    true_positive = (y_test == y_preds).sum()\n",
    "    return true_positive / len(y_test) * 100\n"
   ]
  },
  {
   "cell_type": "code",
   "execution_count": 16,
   "metadata": {},
   "outputs": [],
   "source": [
    "def plot_confusion_matrix(y_test:np.ndarray,y_preds:np.ndarray):\n",
    "        conf_matrix = confusion_matrix(y_test,y_preds)\n",
    "        sns.heatmap(conf_matrix,annot=True) "
   ]
  },
  {
   "cell_type": "code",
   "execution_count": 17,
   "metadata": {},
   "outputs": [
    {
     "data": {
      "image/png": "[encoded data removed]",
      "text/plain": [
       "<Figure size 640x480 with 2 Axes>"
      ]
     },
     "metadata": {},
     "output_type": "display_data"
    }
   ],
   "source": [
    "plot_confusion_matrix(y_test,\n",
    "                      y_preds = predict(x_train,y_train,x_test,k=3))"
   ]
  },
  {
   "cell_type": "code",
   "execution_count": 18,
   "metadata": {},
   "outputs": [
    {
     "name": "stdout",
     "output_type": "stream",
     "text": [
      "[[ 6.100e+00  2.800e+00  4.700e+00  1.200e+00]\n",
      " [ 5.700e+00  3.800e+00  1.700e+00  3.000e-01]\n",
      " [ 7.700e+00  2.600e+00  6.900e+00  2.300e+00]\n",
      " [ 6.000e+00  2.900e+00  4.500e+00  1.500e+00]\n",
      " [ 6.800e+00  2.800e+00 -1.111e+03  1.400e+00]\n",
      " [ 5.400e+00  3.400e+00  1.500e+00  4.000e-01]\n",
      " [ 5.600e+00  2.900e+00  3.600e+00  1.300e+00]\n",
      " [ 6.900e+00  3.100e+00  5.100e+00  2.300e+00]\n",
      " [ 6.200e+00  2.200e+00  4.500e+00  1.500e+00]\n",
      " [ 5.800e+00  2.700e+00  3.900e+00  1.200e+00]\n",
      " [ 6.500e+00  3.200e+00  5.100e+00  2.000e+00]\n",
      " [ 4.800e+00  3.000e+00  1.400e+00  1.000e-01]\n",
      " [ 5.500e+00  3.500e+00        nan  2.000e-01]\n",
      " [ 4.900e+00  3.100e+00  1.500e+00  1.000e-01]\n",
      " [ 5.100e+00  1.000e+02  1.500e+00  3.000e-01]\n",
      " [ 6.300e+00  3.300e+00  4.700e+00  1.600e+00]\n",
      " [ 6.500e+00  3.000e+00  5.800e+00  2.200e+00]\n",
      " [ 5.600e+00  2.500e+00  3.900e+00  1.100e+00]\n",
      " [       nan  2.800e+00  4.500e+00        nan]\n",
      " [ 6.400e+00        nan  5.600e+00  2.200e+00]\n",
      " [ 4.700e+00  3.200e+00  1.600e+00  2.000e-01]\n",
      " [ 6.100e+00  3.000e+00  4.900e+00  1.800e+00]\n",
      " [ 5.000e+00  3.400e+00  1.600e+00  4.000e-01]\n",
      " [ 6.400e+00  2.800e+00  5.600e+00  2.100e+00]\n",
      " [ 7.900e+00  3.800e+00  6.400e+00  2.000e+00]\n",
      " [ 6.700e+00  3.000e+00  5.200e+00  2.300e+00]\n",
      " [ 6.700e+00  2.500e+00  5.800e+00  1.800e+00]\n",
      " [ 6.800e+00  3.200e+00  1.000e+03  2.300e+00]\n",
      " [ 5.000e+04  3.000e+00  1.400e+00  3.000e-01]\n",
      " [ 4.800e+00  3.100e+00  1.600e+00  2.000e-01]\n",
      " [ 4.600e+00  3.600e+00  1.000e+00  2.000e-01]\n",
      " [ 5.700e+00  4.400e+00  1.500e+00  4.000e-01]\n",
      " [ 6.700e+00  3.100e+00  4.400e+00  1.400e+00]\n",
      " [       nan  3.400e+00  1.600e+00  2.000e-01]\n",
      " [ 4.400e+00  3.200e+00  1.300e+00  2.000e-01]\n",
      " [ 6.300e+00  2.500e+00  5.000e+00  1.900e+00]\n",
      " [ 6.400e+00  3.200e+00  4.500e+00  1.500e+00]\n",
      " [ 5.200e+00  3.500e+00  1.500e+00  2.000e-01]\n",
      " [ 5.000e+00  3.600e+00  1.400e+00  2.000e-01]\n",
      " [ 5.200e+00  4.100e+00  1.500e+00  1.000e-01]\n",
      " [ 5.800e+00  2.700e+00  5.100e+00  1.900e+00]\n",
      " [ 6.000e+00  3.400e+00  4.500e+00  1.600e+00]\n",
      " [ 6.700e+00  3.100e+00  4.700e+00  1.500e+00]\n",
      " [ 5.400e+00  3.900e+00  1.300e+00  4.000e-01]\n",
      " [ 5.400e+00  3.700e+00  1.500e+00  2.000e-01]\n",
      " [ 5.500e+00  2.400e+00  3.700e+00  1.000e+00]\n",
      " [ 6.300e+00  2.800e+00  5.100e+00  1.500e+00]\n",
      " [ 6.400e+00  3.100e+00  5.500e+00  1.800e+00]\n",
      " [ 6.600e+00  3.000e+00  4.400e+00  1.400e+00]\n",
      " [ 7.200e+00  3.600e+00  6.100e+00  2.500e+00]\n",
      " [ 5.700e+00  2.900e+00  4.200e+00  1.300e+00]\n",
      " [ 7.600e+00  3.000e+00  6.600e+00  2.100e+00]\n",
      " [       nan  3.000e+00  4.500e+00  1.500e+00]\n",
      " [ 5.100e+00  3.500e+00  1.400e+00  2.000e-01]\n",
      " [ 7.700e+00  2.800e+00  6.700e+00  2.000e+00]\n",
      " [ 5.800e+00  2.700e+00  4.100e+00  1.000e+00]\n",
      " [ 5.200e+00  3.400e+00  1.400e+00  2.000e-01]\n",
      " [ 5.000e+00  3.500e+00  1.300e+00  3.000e-01]\n",
      " [ 5.100e+00  3.800e+00  1.900e+00  4.000e-01]\n",
      " [ 5.000e+00  2.000e+00  3.500e+00  1.000e+00]\n",
      " [ 6.300e+00  2.700e+00  4.900e+00  1.800e+00]\n",
      " [ 4.800e+00  3.400e+00  1.900e+00  2.000e-01]\n",
      " [ 5.000e+00  3.000e+00  1.600e+00  3.000e+03]\n",
      " [       nan  3.300e+00  1.700e+00  5.000e-01]\n",
      " [ 5.600e+00  2.700e+00        nan  1.300e+00]\n",
      " [ 5.100e+00  3.400e+00  1.500e+00  2.000e-01]\n",
      " [ 5.700e+00  3.000e+00  4.200e+00  1.200e+00]\n",
      " [ 7.700e+00  3.800e+00  6.700e+00  2.200e+00]\n",
      " [ 4.600e+00  3.200e+00  1.400e+00  2.000e-01]\n",
      " [ 6.200e+00  2.900e+00  4.300e+00  1.300e+00]\n",
      " [ 5.700e+00  2.500e+00  5.000e+00  2.000e+00]\n",
      " [ 5.500e+00  4.200e+00  1.400e+00  2.000e-01]\n",
      " [ 6.000e+00  3.000e+00  4.800e+00        nan]\n",
      " [ 5.800e+00  2.700e+00  5.100e+00  1.900e+00]\n",
      " [ 6.000e+00  2.200e+00  4.000e+00  1.000e+00]\n",
      " [ 5.400e+00  3.000e+00  4.500e+00  1.500e+00]\n",
      " [       nan  3.400e+00  5.400e+00  2.300e+00]\n",
      " [ 5.500e+00  2.300e+00  4.000e+00  1.300e+00]\n",
      " [ 5.400e+00  3.900e+00  1.700e+00        nan]\n",
      " [ 5.000e+00  2.300e+00  3.300e+00  1.000e+00]\n",
      " [ 6.400e+00  2.700e+00  5.300e+00  1.900e+00]\n",
      " [ 5.000e+00  3.300e+00  1.400e+00  2.000e-01]\n",
      " [ 5.000e+00  3.200e+00  1.200e+00  2.000e-01]\n",
      " [ 5.500e+00  2.400e+00  3.800e+00  1.100e+00]\n",
      " [ 6.700e+00  3.000e+00  5.000e+00  1.700e+00]\n",
      " [ 4.900e+00  3.100e+00  1.500e+00  1.000e-01]\n",
      " [ 5.800e+00  2.800e+00  5.100e+00  2.400e+00]\n",
      " [ 5.000e+00  3.400e+00  1.500e+00  2.000e-01]\n",
      " [ 5.000e+00  3.500e+00  1.600e+00  6.000e-01]\n",
      " [ 5.900e+00  3.200e+00  4.800e+00  1.800e+00]\n",
      " [ 5.100e+00  2.500e+00  3.000e+00  1.100e+00]\n",
      " [ 6.900e+00  3.200e+00  5.700e+00  2.300e+00]\n",
      " [ 6.000e+00  2.700e+00  5.100e+00  1.600e+00]\n",
      " [ 6.100e+00  2.600e+00  5.600e+00  1.400e+00]\n",
      " [ 7.700e+00  3.000e+00  6.100e+00  2.300e+00]\n",
      " [ 5.500e+00  2.500e+00  4.000e+00  1.300e+00]\n",
      " [ 4.400e+00  2.900e+00  1.400e+00  2.000e-01]\n",
      " [ 4.300e+00  3.000e+00  1.100e+00  1.000e-01]\n",
      " [ 6.000e+00  2.200e+00  5.000e+00  1.500e+00]\n",
      " [ 7.200e+00  3.200e+00  6.000e+00  1.800e+00]\n",
      " [ 4.600e+00  3.100e+00  1.500e+00  2.000e-01]\n",
      " [ 5.100e+00  3.500e+00  1.400e+00  3.000e-01]\n",
      " [ 4.400e+00  3.000e+00  1.300e+00  2.000e-01]\n",
      " [ 6.300e+00  2.500e+00  4.900e+00  1.500e+00]\n",
      " [ 6.300e+00  3.400e+00  5.600e+00  2.400e+00]\n",
      " [ 4.600e+00  3.400e+00  1.400e+00  3.000e-01]\n",
      " [ 6.800e+00  3.000e+00  5.500e+00  2.100e+00]\n",
      " [ 6.300e+00  3.300e+00  6.000e+00  2.500e+00]\n",
      " [ 4.700e+00  3.200e+00  1.300e+00  2.000e-01]\n",
      " [ 6.100e+00  2.900e+00  4.700e+00  1.400e+00]\n",
      " [ 6.500e+00  2.800e+00  4.600e+00  1.500e+00]\n",
      " [ 6.200e+00  2.800e+00  4.800e+00  1.800e+00]\n",
      " [ 7.000e+00  3.200e+00  4.700e+00  1.400e+00]\n",
      " [ 6.400e+00  3.200e+00  5.300e+00  2.300e+00]\n",
      " [ 5.100e+00  3.800e+00  1.600e+00  2.000e-01]\n",
      " [ 6.900e+00  3.100e+00  5.400e+00  2.100e+00]\n",
      " [ 5.900e+00  3.000e+00  4.200e+00  1.500e+00]\n",
      " [ 6.500e+00  3.000e+00  5.200e+00  2.000e+00]\n",
      " [ 5.700e+00  2.600e+00  3.500e+00        nan]\n",
      " [ 5.200e+00  2.700e+00  3.900e+00  1.400e+00]]\n"
     ]
    }
   ],
   "source": [
    "print(x_train)"
   ]
  }
 ],
 "metadata": {
  "kernelspec": {
   "display_name": "Python 3",
   "language": "python",
   "name": "python3"
  },
  "language_info": {
   "codemirror_mode": {
    "name": "ipython",
    "version": 3
   },
   "file_extension": ".py",
   "mimetype": "text/x-python",
   "name": "python",
   "nbconvert_exporter": "python",
   "pygments_lexer": "ipython3",
   "version": "3.9.6"
  },
  "orig_nbformat": 4
 },
 "nbformat": 4,
 "nbformat_minor": 2
}
