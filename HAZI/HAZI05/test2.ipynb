{
 "cells": [
  {
   "cell_type": "code",
   "execution_count": null,
   "metadata": {},
   "outputs": [],
   "source": [
    "from HAZI05 import KNNClassifier\n",
    "\n",
    "knn = KNNClassifier(3, 0.2)\n",
    "\n",
    "x, y = knn.load_csv(\"iris.csv\")\n",
    "\n",
    "# knn.train_test_split(x, y)\n",
    "# knn.predict()\n",
    "#\n",
    "# print(knn.accuracy)\n"
   ]
  }
 ],
 "metadata": {
  "kernelspec": {
   "display_name": "Python 3",
   "language": "python",
   "name": "python3"
  },
  "language_info": {
   "name": "python",
   "version": "3.9.6"
  },
  "orig_nbformat": 4
 },
 "nbformat": 4,
 "nbformat_minor": 2
}
