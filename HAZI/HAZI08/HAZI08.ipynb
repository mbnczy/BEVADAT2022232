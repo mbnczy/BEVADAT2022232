{
 "cells": [
  {
   "cell_type": "code",
   "execution_count": 2,
   "metadata": {},
   "outputs": [],
   "source": [
    "import numpy as np\n",
    "import matplotlib.pyplot as plt\n",
    "import pandas as pd\n",
    "\n",
    "from sklearn.datasets import load_iris\n",
    "from sklearn.model_selection import train_test_split\n",
    "from sklearn.linear_model import LinearRegression, LogisticRegression\n",
    "from sklearn.metrics import mean_squared_error"
   ]
  },
  {
   "cell_type": "code",
   "execution_count": null,
   "metadata": {},
   "outputs": [],
   "source": [
    "'''\n",
    "Készíts egy függvényt, betölti majd vissza adja az iris adathalmazt.\n",
    "\n",
    "\n",
    "Egy példa a kimenetre: iris\n",
    "return type: sklearn.utils.Bunch\n",
    "függvény neve: load_iris_data\n",
    "'''"
   ]
  },
  {
   "cell_type": "code",
   "execution_count": 47,
   "metadata": {},
   "outputs": [],
   "source": [
    "def load_iris_data():\n",
    "    return load_iris()"
   ]
  },
  {
   "cell_type": "code",
   "execution_count": 71,
   "metadata": {},
   "outputs": [],
   "source": [
    "iris = load_iris_data()"
   ]
  },
  {
   "cell_type": "code",
   "execution_count": null,
   "metadata": {},
   "outputs": [],
   "source": [
    "'''\n",
    "Készíts egy függvényt, ami a betölti az virágokhoz tartozó levél méretket egy dataframebe, majd az első 5 sort visszaadja.\n",
    "Minden oszlop tartalmazza, hogy az milyen mérethez tartozik.\n",
    "\n",
    "Egy példa a bemenetre: iris\n",
    "Egy példa a kimenetre: iris_df\n",
    "return type: pandas.core.frame.DataFrame\n",
    "függvény neve: check_data\n",
    "'''"
   ]
  },
  {
   "cell_type": "code",
   "execution_count": 5,
   "metadata": {},
   "outputs": [],
   "source": [
    "def check_data(iris)-> pd.DataFrame:\n",
    "    return pd.DataFrame(iris.data, columns=iris.feature_names)[[\"sepal width (cm)\", \"sepal length (cm)\"]].head()"
   ]
  },
  {
   "cell_type": "code",
   "execution_count": 6,
   "metadata": {},
   "outputs": [
    {
     "data": {
      "text/html": [
       "<div>\n",
       "<style scoped>\n",
       "    .dataframe tbody tr th:only-of-type {\n",
       "        vertical-align: middle;\n",
       "    }\n",
       "\n",
       "    .dataframe tbody tr th {\n",
       "        vertical-align: top;\n",
       "    }\n",
       "\n",
       "    .dataframe thead th {\n",
       "        text-align: right;\n",
       "    }\n",
       "</style>\n",
       "<table border=\"1\" class=\"dataframe\">\n",
       "  <thead>\n",
       "    <tr style=\"text-align: right;\">\n",
       "      <th></th>\n",
       "      <th>sepal width (cm)</th>\n",
       "      <th>sepal length (cm)</th>\n",
       "    </tr>\n",
       "  </thead>\n",
       "  <tbody>\n",
       "    <tr>\n",
       "      <th>0</th>\n",
       "      <td>3.5</td>\n",
       "      <td>5.1</td>\n",
       "    </tr>\n",
       "    <tr>\n",
       "      <th>1</th>\n",
       "      <td>3.0</td>\n",
       "      <td>4.9</td>\n",
       "    </tr>\n",
       "    <tr>\n",
       "      <th>2</th>\n",
       "      <td>3.2</td>\n",
       "      <td>4.7</td>\n",
       "    </tr>\n",
       "    <tr>\n",
       "      <th>3</th>\n",
       "      <td>3.1</td>\n",
       "      <td>4.6</td>\n",
       "    </tr>\n",
       "    <tr>\n",
       "      <th>4</th>\n",
       "      <td>3.6</td>\n",
       "      <td>5.0</td>\n",
       "    </tr>\n",
       "  </tbody>\n",
       "</table>\n",
       "</div>"
      ],
      "text/plain": [
       "   sepal width (cm)  sepal length (cm)\n",
       "0               3.5                5.1\n",
       "1               3.0                4.9\n",
       "2               3.2                4.7\n",
       "3               3.1                4.6\n",
       "4               3.6                5.0"
      ]
     },
     "execution_count": 6,
     "metadata": {},
     "output_type": "execute_result"
    }
   ],
   "source": [
    "df = check_data(iris)\n",
    "df"
   ]
  },
  {
   "cell_type": "code",
   "execution_count": null,
   "metadata": {},
   "outputs": [],
   "source": [
    "''' \n",
    "Készíts egy függvényt ami előkészíti az adatokat egy lineaáris regressziós model feltanításához.\n",
    "Featurejeink legyenek a levél méretek kivéve a \"sepal length (cm)\", ez legyen a targetünk.\n",
    "\n",
    "Egy példa a bemenetre: iris\n",
    "Egy példa a kimenetre: X, y\n",
    "return type: (numpy.ndarray, numpy.ndarray)\n",
    "függvény neve: linear_train_data\n",
    "'''"
   ]
  },
  {
   "cell_type": "code",
   "execution_count": 11,
   "metadata": {},
   "outputs": [],
   "source": [
    "def linear_train_data(iris):\n",
    "    iris_df = pd.DataFrame(iris.data, columns=iris.feature_names)\n",
    "    X = iris_df.loc[:,['sepal width (cm)','petal length (cm)','petal width (cm)']].values\n",
    "    y = iris_df['sepal length (cm)'].values\n",
    "    return X, y"
   ]
  },
  {
   "cell_type": "code",
   "execution_count": 51,
   "metadata": {},
   "outputs": [
    {
     "data": {
      "text/plain": [
       "(array([[3.5, 1.4, 0.2],\n",
       "        [3. , 1.4, 0.2],\n",
       "        [3.2, 1.3, 0.2],\n",
       "        [3.1, 1.5, 0.2],\n",
       "        [3.6, 1.4, 0.2],\n",
       "        [3.9, 1.7, 0.4],\n",
       "        [3.4, 1.4, 0.3],\n",
       "        [3.4, 1.5, 0.2],\n",
       "        [2.9, 1.4, 0.2],\n",
       "        [3.1, 1.5, 0.1],\n",
       "        [3.7, 1.5, 0.2],\n",
       "        [3.4, 1.6, 0.2],\n",
       "        [3. , 1.4, 0.1],\n",
       "        [3. , 1.1, 0.1],\n",
       "        [4. , 1.2, 0.2],\n",
       "        [4.4, 1.5, 0.4],\n",
       "        [3.9, 1.3, 0.4],\n",
       "        [3.5, 1.4, 0.3],\n",
       "        [3.8, 1.7, 0.3],\n",
       "        [3.8, 1.5, 0.3],\n",
       "        [3.4, 1.7, 0.2],\n",
       "        [3.7, 1.5, 0.4],\n",
       "        [3.6, 1. , 0.2],\n",
       "        [3.3, 1.7, 0.5],\n",
       "        [3.4, 1.9, 0.2],\n",
       "        [3. , 1.6, 0.2],\n",
       "        [3.4, 1.6, 0.4],\n",
       "        [3.5, 1.5, 0.2],\n",
       "        [3.4, 1.4, 0.2],\n",
       "        [3.2, 1.6, 0.2],\n",
       "        [3.1, 1.6, 0.2],\n",
       "        [3.4, 1.5, 0.4],\n",
       "        [4.1, 1.5, 0.1],\n",
       "        [4.2, 1.4, 0.2],\n",
       "        [3.1, 1.5, 0.2],\n",
       "        [3.2, 1.2, 0.2],\n",
       "        [3.5, 1.3, 0.2],\n",
       "        [3.6, 1.4, 0.1],\n",
       "        [3. , 1.3, 0.2],\n",
       "        [3.4, 1.5, 0.2],\n",
       "        [3.5, 1.3, 0.3],\n",
       "        [2.3, 1.3, 0.3],\n",
       "        [3.2, 1.3, 0.2],\n",
       "        [3.5, 1.6, 0.6],\n",
       "        [3.8, 1.9, 0.4],\n",
       "        [3. , 1.4, 0.3],\n",
       "        [3.8, 1.6, 0.2],\n",
       "        [3.2, 1.4, 0.2],\n",
       "        [3.7, 1.5, 0.2],\n",
       "        [3.3, 1.4, 0.2],\n",
       "        [3.2, 4.7, 1.4],\n",
       "        [3.2, 4.5, 1.5],\n",
       "        [3.1, 4.9, 1.5],\n",
       "        [2.3, 4. , 1.3],\n",
       "        [2.8, 4.6, 1.5],\n",
       "        [2.8, 4.5, 1.3],\n",
       "        [3.3, 4.7, 1.6],\n",
       "        [2.4, 3.3, 1. ],\n",
       "        [2.9, 4.6, 1.3],\n",
       "        [2.7, 3.9, 1.4],\n",
       "        [2. , 3.5, 1. ],\n",
       "        [3. , 4.2, 1.5],\n",
       "        [2.2, 4. , 1. ],\n",
       "        [2.9, 4.7, 1.4],\n",
       "        [2.9, 3.6, 1.3],\n",
       "        [3.1, 4.4, 1.4],\n",
       "        [3. , 4.5, 1.5],\n",
       "        [2.7, 4.1, 1. ],\n",
       "        [2.2, 4.5, 1.5],\n",
       "        [2.5, 3.9, 1.1],\n",
       "        [3.2, 4.8, 1.8],\n",
       "        [2.8, 4. , 1.3],\n",
       "        [2.5, 4.9, 1.5],\n",
       "        [2.8, 4.7, 1.2],\n",
       "        [2.9, 4.3, 1.3],\n",
       "        [3. , 4.4, 1.4],\n",
       "        [2.8, 4.8, 1.4],\n",
       "        [3. , 5. , 1.7],\n",
       "        [2.9, 4.5, 1.5],\n",
       "        [2.6, 3.5, 1. ],\n",
       "        [2.4, 3.8, 1.1],\n",
       "        [2.4, 3.7, 1. ],\n",
       "        [2.7, 3.9, 1.2],\n",
       "        [2.7, 5.1, 1.6],\n",
       "        [3. , 4.5, 1.5],\n",
       "        [3.4, 4.5, 1.6],\n",
       "        [3.1, 4.7, 1.5],\n",
       "        [2.3, 4.4, 1.3],\n",
       "        [3. , 4.1, 1.3],\n",
       "        [2.5, 4. , 1.3],\n",
       "        [2.6, 4.4, 1.2],\n",
       "        [3. , 4.6, 1.4],\n",
       "        [2.6, 4. , 1.2],\n",
       "        [2.3, 3.3, 1. ],\n",
       "        [2.7, 4.2, 1.3],\n",
       "        [3. , 4.2, 1.2],\n",
       "        [2.9, 4.2, 1.3],\n",
       "        [2.9, 4.3, 1.3],\n",
       "        [2.5, 3. , 1.1],\n",
       "        [2.8, 4.1, 1.3],\n",
       "        [3.3, 6. , 2.5],\n",
       "        [2.7, 5.1, 1.9],\n",
       "        [3. , 5.9, 2.1],\n",
       "        [2.9, 5.6, 1.8],\n",
       "        [3. , 5.8, 2.2],\n",
       "        [3. , 6.6, 2.1],\n",
       "        [2.5, 4.5, 1.7],\n",
       "        [2.9, 6.3, 1.8],\n",
       "        [2.5, 5.8, 1.8],\n",
       "        [3.6, 6.1, 2.5],\n",
       "        [3.2, 5.1, 2. ],\n",
       "        [2.7, 5.3, 1.9],\n",
       "        [3. , 5.5, 2.1],\n",
       "        [2.5, 5. , 2. ],\n",
       "        [2.8, 5.1, 2.4],\n",
       "        [3.2, 5.3, 2.3],\n",
       "        [3. , 5.5, 1.8],\n",
       "        [3.8, 6.7, 2.2],\n",
       "        [2.6, 6.9, 2.3],\n",
       "        [2.2, 5. , 1.5],\n",
       "        [3.2, 5.7, 2.3],\n",
       "        [2.8, 4.9, 2. ],\n",
       "        [2.8, 6.7, 2. ],\n",
       "        [2.7, 4.9, 1.8],\n",
       "        [3.3, 5.7, 2.1],\n",
       "        [3.2, 6. , 1.8],\n",
       "        [2.8, 4.8, 1.8],\n",
       "        [3. , 4.9, 1.8],\n",
       "        [2.8, 5.6, 2.1],\n",
       "        [3. , 5.8, 1.6],\n",
       "        [2.8, 6.1, 1.9],\n",
       "        [3.8, 6.4, 2. ],\n",
       "        [2.8, 5.6, 2.2],\n",
       "        [2.8, 5.1, 1.5],\n",
       "        [2.6, 5.6, 1.4],\n",
       "        [3. , 6.1, 2.3],\n",
       "        [3.4, 5.6, 2.4],\n",
       "        [3.1, 5.5, 1.8],\n",
       "        [3. , 4.8, 1.8],\n",
       "        [3.1, 5.4, 2.1],\n",
       "        [3.1, 5.6, 2.4],\n",
       "        [3.1, 5.1, 2.3],\n",
       "        [2.7, 5.1, 1.9],\n",
       "        [3.2, 5.9, 2.3],\n",
       "        [3.3, 5.7, 2.5],\n",
       "        [3. , 5.2, 2.3],\n",
       "        [2.5, 5. , 1.9],\n",
       "        [3. , 5.2, 2. ],\n",
       "        [3.4, 5.4, 2.3],\n",
       "        [3. , 5.1, 1.8]]),\n",
       " array([5.1, 4.9, 4.7, 4.6, 5. , 5.4, 4.6, 5. , 4.4, 4.9, 5.4, 4.8, 4.8,\n",
       "        4.3, 5.8, 5.7, 5.4, 5.1, 5.7, 5.1, 5.4, 5.1, 4.6, 5.1, 4.8, 5. ,\n",
       "        5. , 5.2, 5.2, 4.7, 4.8, 5.4, 5.2, 5.5, 4.9, 5. , 5.5, 4.9, 4.4,\n",
       "        5.1, 5. , 4.5, 4.4, 5. , 5.1, 4.8, 5.1, 4.6, 5.3, 5. , 7. , 6.4,\n",
       "        6.9, 5.5, 6.5, 5.7, 6.3, 4.9, 6.6, 5.2, 5. , 5.9, 6. , 6.1, 5.6,\n",
       "        6.7, 5.6, 5.8, 6.2, 5.6, 5.9, 6.1, 6.3, 6.1, 6.4, 6.6, 6.8, 6.7,\n",
       "        6. , 5.7, 5.5, 5.5, 5.8, 6. , 5.4, 6. , 6.7, 6.3, 5.6, 5.5, 5.5,\n",
       "        6.1, 5.8, 5. , 5.6, 5.7, 5.7, 6.2, 5.1, 5.7, 6.3, 5.8, 7.1, 6.3,\n",
       "        6.5, 7.6, 4.9, 7.3, 6.7, 7.2, 6.5, 6.4, 6.8, 5.7, 5.8, 6.4, 6.5,\n",
       "        7.7, 7.7, 6. , 6.9, 5.6, 7.7, 6.3, 6.7, 7.2, 6.2, 6.1, 6.4, 7.2,\n",
       "        7.4, 7.9, 6.4, 6.3, 6.1, 7.7, 6.3, 6.4, 6. , 6.9, 6.7, 6.9, 5.8,\n",
       "        6.8, 6.7, 6.7, 6.3, 6.5, 6.2, 5.9]))"
      ]
     },
     "execution_count": 51,
     "metadata": {},
     "output_type": "execute_result"
    }
   ],
   "source": [
    "X,y = linear_train_data(iris)\n",
    "X,y"
   ]
  },
  {
   "cell_type": "code",
   "execution_count": null,
   "metadata": {},
   "outputs": [],
   "source": [
    "''' \n",
    "Készíts egy függvényt ami előkészíti az adatokat egy logisztikus regressziós model feltanításához.\n",
    "Featurejeink legyenek a levél méretek, targetünk pedig a 0, 1-es virág osztályok.\n",
    "Fontos csak azokkal az adatokkal tanítsunk amihez tartozik adott target. \n",
    "\n",
    "Egy példa a bemenetre: iris\n",
    "Egy példa a kimenetre: X, y\n",
    "return type: (numpy.ndarray, numpy.ndarray)\n",
    "függvény neve: logistic_train_data\n",
    "'''"
   ]
  },
  {
   "cell_type": "code",
   "execution_count": 83,
   "metadata": {},
   "outputs": [],
   "source": [
    "def logistic_train_data(iris):\n",
    "    X = iris.data[:,:2]\n",
    "    #y = (iris.target == 0).astype(np.int32)\n",
    "    y = iris.target\n",
    "    X = X[y != 2]\n",
    "    y = y[y != 2]\n",
    "    return X, y"
   ]
  },
  {
   "cell_type": "code",
   "execution_count": 82,
   "metadata": {},
   "outputs": [],
   "source": [
    "def logistic_train_data2(iris):\n",
    "    df = pd.DataFrame(iris.data)\n",
    "    df['class'] = iris.target\n",
    "\n",
    "    df.columns = ['sepal_len', 'sepal_wid', 'petal_len', 'petal_wid', 'class']\n",
    "    X = df[[\"sepal_wid\", \"sepal_len\"]]\n",
    "    mask = (df[\"class\"] < 2) & (df[\"class\"] >= 0)\n",
    "    y_df = df[mask]\n",
    "    y = y_df.iloc[:, -1]\n",
    "    return X, y"
   ]
  },
  {
   "cell_type": "code",
   "execution_count": 84,
   "metadata": {},
   "outputs": [
    {
     "data": {
      "text/plain": [
       "array([0, 0, 0, 0, 0, 0, 0, 0, 0, 0, 0, 0, 0, 0, 0, 0, 0, 0, 0, 0, 0, 0,\n",
       "       0, 0, 0, 0, 0, 0, 0, 0, 0, 0, 0, 0, 0, 0, 0, 0, 0, 0, 0, 0, 0, 0,\n",
       "       0, 0, 0, 0, 0, 0, 1, 1, 1, 1, 1, 1, 1, 1, 1, 1, 1, 1, 1, 1, 1, 1,\n",
       "       1, 1, 1, 1, 1, 1, 1, 1, 1, 1, 1, 1, 1, 1, 1, 1, 1, 1, 1, 1, 1, 1,\n",
       "       1, 1, 1, 1, 1, 1, 1, 1, 1, 1, 1, 1])"
      ]
     },
     "execution_count": 84,
     "metadata": {},
     "output_type": "execute_result"
    }
   ],
   "source": [
    "X,y = logistic_train_data(iris)\n",
    "len(X),len(y)\n",
    "#iris.target\n",
    "y"
   ]
  },
  {
   "cell_type": "code",
   "execution_count": null,
   "metadata": {},
   "outputs": [],
   "source": [
    "'''\n",
    "Készíts egy függvényt ami feldarabolja az adatainkat train és test részre. Az adatok 20%-át használjuk fel a teszteléshez.\n",
    "Tegyük determenisztikussá a darabolást, ennek értéke legyen 42.\n",
    "\n",
    "Egy példa a bemenetre: X, y\n",
    "Egy példa a kimenetre: X_train, X_test, y_train, y_test\n",
    "return type: (numpy.ndarray, numpy.ndarray, numpy.ndarray, numpy.ndarray)\n",
    "függvény neve: split_data\n",
    "'''"
   ]
  },
  {
   "cell_type": "code",
   "execution_count": 85,
   "metadata": {},
   "outputs": [],
   "source": [
    "def split_data(X, y):\n",
    "    return train_test_split(X, y, test_size=0.2, random_state=42)"
   ]
  },
  {
   "cell_type": "code",
   "execution_count": 86,
   "metadata": {},
   "outputs": [],
   "source": [
    "X_train, X_test, y_train, y_test = split_data(X,y)"
   ]
  },
  {
   "cell_type": "code",
   "execution_count": null,
   "metadata": {},
   "outputs": [],
   "source": [
    "'''\n",
    "Készíts egy függvényt ami feltanít egy lineaáris regressziós modelt, majd visszatér vele.\n",
    "\n",
    "Egy példa a bemenetre: X_train, y_train\n",
    "Egy példa a kimenetre: model\n",
    "return type: sklearn.linear_model._base.LinearRegression\n",
    "függvény neve: train_linear_regression\n",
    "'''"
   ]
  },
  {
   "cell_type": "code",
   "execution_count": 53,
   "metadata": {},
   "outputs": [],
   "source": [
    "def train_linear_regression(X_train, y_train):\n",
    "    linreg = LinearRegression()\n",
    "    linreg.fit(X_train,y_train)\n",
    "    return linreg"
   ]
  },
  {
   "cell_type": "code",
   "execution_count": null,
   "metadata": {},
   "outputs": [],
   "source": [
    "'''\n",
    "Készíts egy függvényt ami feltanít egy logisztikus regressziós modelt, majd visszatér vele.\n",
    "\n",
    "Egy példa a bemenetre: X_train, y_train\n",
    "Egy példa a kimenetre: model\n",
    "return type: sklearn.linear_model._base.LogisticRegression\n",
    "függvény neve: train_logistic_regression\n",
    "'''"
   ]
  },
  {
   "cell_type": "code",
   "execution_count": 19,
   "metadata": {},
   "outputs": [],
   "source": [
    "def train_logistic_regression(X_train, y_train):\n",
    "    logreg = LogisticRegression()\n",
    "    logreg.fit(X_train,y_train)\n",
    "    return logreg"
   ]
  },
  {
   "cell_type": "code",
   "execution_count": 54,
   "metadata": {},
   "outputs": [],
   "source": [
    "linregmodel = train_linear_regression(X_train,y_train)"
   ]
  },
  {
   "cell_type": "code",
   "execution_count": 87,
   "metadata": {},
   "outputs": [],
   "source": [
    "logregmodel = train_logistic_regression(X_train,y_train)"
   ]
  },
  {
   "cell_type": "code",
   "execution_count": null,
   "metadata": {},
   "outputs": [],
   "source": [
    "''' \n",
    "Készíts egy függvényt, ami a feltanított modellel predikciót tud végre hajtani.\n",
    "\n",
    "Egy példa a bemenetre: model, X_test\n",
    "Egy példa a kimenetre: y_pred\n",
    "return type: numpy.ndarray\n",
    "függvény neve: predict\n",
    "'''"
   ]
  },
  {
   "cell_type": "code",
   "execution_count": 88,
   "metadata": {},
   "outputs": [],
   "source": [
    "def predict(model, X_test):\n",
    "    return model.predict(X_test)"
   ]
  },
  {
   "cell_type": "code",
   "execution_count": 58,
   "metadata": {},
   "outputs": [],
   "source": [
    "linreg_pred = predict(linregmodel,X_test)\n"
   ]
  },
  {
   "cell_type": "code",
   "execution_count": 89,
   "metadata": {},
   "outputs": [],
   "source": [
    "logreg_pred = predict(logregmodel,X_test)\n"
   ]
  },
  {
   "cell_type": "code",
   "execution_count": null,
   "metadata": {},
   "outputs": [],
   "source": [
    "'''\n",
    "Készíts egy függvényt, ami vizualizálni tudja a label és a predikciók közötti eltérést.\n",
    "Használj scatter plotot a diagram elkészítéséhez.\n",
    "\n",
    "Diagram címe legyen: 'Actual vs Predicted Target Values'\n",
    "Az x tengely címe legyen: 'Actual'\n",
    "Az y tengely címe legyen: 'Predicted'\n",
    "\n",
    "Egy példa a bemenetre: y_test, y_pred\n",
    "Egy példa a kimenetre: scatter plot\n",
    "return type: matplotlib.figure.Figure\n",
    "függvény neve: plot_actual_vs_predicted\n",
    "'''"
   ]
  },
  {
   "cell_type": "code",
   "execution_count": 90,
   "metadata": {},
   "outputs": [],
   "source": [
    "def plot_actual_vs_predicted(y_test, y_pred):\n",
    "    fig, ax = plt.subplots()\n",
    "    ax.scatter(y_test, y_pred)\n",
    "    ax.set_title('Actual vs Predicted Target Values')\n",
    "    ax.set_xlabel('Actual')\n",
    "    ax.set_ylabel('Predicted')\n",
    "    return fig"
   ]
  },
  {
   "cell_type": "code",
   "execution_count": 91,
   "metadata": {},
   "outputs": [
    {
     "data": {
      "text/plain": [
       "Text(0, 0.5, 'Predicted')"
      ]
     },
     "execution_count": 91,
     "metadata": {},
     "output_type": "execute_result"
    },
    {
     "data": {
      "image/png": "[encoded data removed]",
      "text/plain": [
       "<Figure size 640x480 with 1 Axes>"
      ]
     },
     "metadata": {},
     "output_type": "display_data"
    }
   ],
   "source": [
    "fig, ax = plt.subplots()\n",
    "ax.scatter(y_test, logreg_pred)\n",
    "ax.set_title('Actual vs Predicted Target Values')\n",
    "ax.set_xlabel('Actual')\n",
    "ax.set_ylabel('Predicted')"
   ]
  },
  {
   "cell_type": "code",
   "execution_count": 67,
   "metadata": {},
   "outputs": [
    {
     "data": {
      "image/png": "[encoded data removed]",
      "text/plain": [
       "<Figure size 640x480 with 1 Axes>"
      ]
     },
     "execution_count": 67,
     "metadata": {},
     "output_type": "execute_result"
    },
    {
     "data": {
      "image/png": "[encoded data removed]",
      "text/plain": [
       "<Figure size 640x480 with 1 Axes>"
      ]
     },
     "metadata": {},
     "output_type": "display_data"
    }
   ],
   "source": [
    "plot_actual_vs_predicted(y_test,logreg_pred)"
   ]
  },
  {
   "cell_type": "code",
   "execution_count": null,
   "metadata": {},
   "outputs": [],
   "source": [
    "''' \n",
    "Készíts egy függvényt, ami a Négyzetes hiba (MSE) értékét számolja ki a predikciók és a valós értékek között.\n",
    "\n",
    "Egy példa a bemenetre: y_test, y_pred\n",
    "Egy példa a kimenetre: mse\n",
    "return type: float\n",
    "függvény neve: evaluate_model\n",
    "'''"
   ]
  },
  {
   "cell_type": "code",
   "execution_count": 92,
   "metadata": {},
   "outputs": [],
   "source": [
    "def evaluate_model(y_test, y_pred):\n",
    "    return mean_squared_error(y_test, y_pred)"
   ]
  }
 ],
 "metadata": {
  "kernelspec": {
   "display_name": "Python 3",
   "language": "python",
   "name": "python3"
  },
  "language_info": {
   "codemirror_mode": {
    "name": "ipython",
    "version": 3
   },
   "file_extension": ".py",
   "mimetype": "text/x-python",
   "name": "python",
   "nbconvert_exporter": "python",
   "pygments_lexer": "ipython3",
   "version": "3.9.6"
  },
  "orig_nbformat": 4
 },
 "nbformat": 4,
 "nbformat_minor": 2
}
