{
 "cells": [
  {
   "cell_type": "code",
   "execution_count": 100,
   "metadata": {},
   "outputs": [],
   "source": [
    "# imports\n",
    "import matplotlib.pyplot as plt\n",
    "import seaborn as sns\n",
    "sns.set()\n",
    "import numpy as np\n",
    "from sklearn.cluster import KMeans\n",
    "from sklearn.metrics import accuracy_score\n",
    "from scipy.stats import mode\n",
    "from sklearn.metrics import confusion_matrix\n",
    "from sklearn.datasets import load_digits"
   ]
  },
  {
   "cell_type": "code",
   "execution_count": 138,
   "metadata": {},
   "outputs": [],
   "source": [
    "# Készíts egy függvényt ami betölti a digits datasetet \n",
    "# NOTE: használd az sklearn load_digits-et\n",
    "# Függvény neve: load_digits()\n",
    "# Függvény visszatérési értéke: a load_digits visszatérési értéke\n",
    "def load_dataset():\n",
    "    return load_digits()"
   ]
  },
  {
   "cell_type": "code",
   "execution_count": 139,
   "metadata": {},
   "outputs": [],
   "source": [
    "# Vizsgáld meg a betöltött adatszetet (milyen elemek vannak benne stb.)\n",
    "digits = load_dataset()"
   ]
  },
  {
   "cell_type": "code",
   "execution_count": 140,
   "metadata": {},
   "outputs": [
    {
     "data": {
      "text/plain": [
       "(array([[ 0.,  0.,  5., ...,  0.,  0.,  0.],\n",
       "        [ 0.,  0.,  0., ..., 10.,  0.,  0.],\n",
       "        [ 0.,  0.,  0., ..., 16.,  9.,  0.],\n",
       "        ...,\n",
       "        [ 0.,  0.,  1., ...,  6.,  0.,  0.],\n",
       "        [ 0.,  0.,  2., ..., 12.,  0.,  0.],\n",
       "        [ 0.,  0., 10., ..., 12.,  1.,  0.]]),\n",
       " (1797, 64))"
      ]
     },
     "execution_count": 140,
     "metadata": {},
     "output_type": "execute_result"
    }
   ],
   "source": [
    "# Vizsgáld meg a data paraméterét a digits dataset-nek (tartalom,shape...)\n",
    "digits.data, digits.data.shape"
   ]
  },
  {
   "cell_type": "code",
   "execution_count": 141,
   "metadata": {},
   "outputs": [],
   "source": [
    "# Készíts egy függvényt ami létrehoz egy KMeans model-t 10 db cluster-el\n",
    "# NOTE: használd az sklearn Kmeans model-jét (random_state legyen 0)\n",
    "# Miután megvan a model predict-elj vele \n",
    "# NOTE: használd a fit_predict-et\n",
    "# Függvény neve: predict(n_clusters:int,random_state:int,digits)\n",
    "# Függvény visszatérési értéke: (model:sklearn.cluster.KMeans,clusters:np.ndarray)\n",
    "\n",
    "def predict(n_clusters:int,random_state:int,digits):\n",
    "    n_clusters = 10\n",
    "    random_state = 0\n",
    "    model = KMeans(random_state=random_state,\n",
    "                    n_clusters=n_clusters)\n",
    "    X = digits.data\n",
    "    clusters = model.fit_predict(X)\n",
    "    return model,clusters"
   ]
  },
  {
   "cell_type": "code",
   "execution_count": 142,
   "metadata": {},
   "outputs": [
    {
     "name": "stderr",
     "output_type": "stream",
     "text": [
      "/Users/banoczymartin/Library/Python/3.9/lib/python/site-packages/sklearn/cluster/_kmeans.py:870: FutureWarning: The default value of `n_init` will change from 10 to 'auto' in 1.4. Set the value of `n_init` explicitly to suppress the warning\n",
      "  warnings.warn(\n"
     ]
    },
    {
     "data": {
      "text/plain": [
       "array([[ 0.00000000e+00,  1.11022302e-16,  3.07228916e-01,\n",
       "         7.16265060e+00,  1.19457831e+01,  1.93373494e+00,\n",
       "         1.50602410e-01,  5.42168675e-02,  1.73472348e-18,\n",
       "         1.20481928e-02,  3.28313253e+00,  1.37951807e+01,\n",
       "         8.46385542e+00,  1.53012048e+00,  9.75903614e-01,\n",
       "         2.77108434e-01,  8.67361738e-19,  6.44578313e-01,\n",
       "         1.07108434e+01,  1.15602410e+01,  4.33734940e+00,\n",
       "         5.25903614e+00,  3.87349398e+00,  3.25301205e-01,\n",
       "         6.02409639e-03,  4.75903614e+00,  1.47590361e+01,\n",
       "         5.86144578e+00,  6.87951807e+00,  1.07530120e+01,\n",
       "         6.21686747e+00,  1.80722892e-02,  0.00000000e+00,\n",
       "         8.92771084e+00,  1.48072289e+01,  9.35542169e+00,\n",
       "         1.28132530e+01,  1.43915663e+01,  5.48192771e+00,\n",
       "         0.00000000e+00,  9.63855422e-02,  6.50602410e+00,\n",
       "         1.16867470e+01,  1.23433735e+01,  1.48373494e+01,\n",
       "         1.07590361e+01,  1.56626506e+00,  3.46944695e-18,\n",
       "         6.02409639e-02,  1.11445783e+00,  3.00000000e+00,\n",
       "         7.77710843e+00,  1.40843373e+01,  4.13253012e+00,\n",
       "         1.80722892e-02, -8.32667268e-17, -2.16840434e-19,\n",
       "         2.40963855e-02,  3.73493976e-01,  7.96385542e+00,\n",
       "         1.23253012e+01,  1.77108434e+00, -8.88178420e-16,\n",
       "         0.00000000e+00],\n",
       "       [ 0.00000000e+00,  5.96590909e-01,  8.71590909e+00,\n",
       "         1.46306818e+01,  1.40454545e+01,  7.00568182e+00,\n",
       "         5.45454545e-01, -5.55111512e-17,  1.13636364e-02,\n",
       "         4.20454545e+00,  1.26022727e+01,  9.07386364e+00,\n",
       "         1.12386364e+01,  1.19602273e+01,  1.84659091e+00,\n",
       "         1.13636364e-02,  5.68181818e-03,  1.85795455e+00,\n",
       "         3.53977273e+00,  3.47159091e+00,  1.17897727e+01,\n",
       "         9.92613636e+00,  8.57954545e-01, -2.08166817e-17,\n",
       "        -4.33680869e-19,  3.97727273e-02,  9.09090909e-01,\n",
       "         8.30681818e+00,  1.38295455e+01,  6.76704545e+00,\n",
       "         3.06818182e-01, -8.67361738e-19,  0.00000000e+00,\n",
       "         6.25000000e-02,  6.81818182e-01,  4.60227273e+00,\n",
       "         1.17613636e+01,  1.23125000e+01,  2.32954545e+00,\n",
       "         0.00000000e+00, -3.46944695e-18,  4.54545455e-01,\n",
       "         1.44318182e+00,  6.93181818e-01,  4.17613636e+00,\n",
       "         1.23693182e+01,  6.36363636e+00,  5.68181818e-03,\n",
       "         1.73472348e-18,  9.26136364e-01,  7.28409091e+00,\n",
       "         6.59090909e+00,  8.59659091e+00,  1.37215909e+01,\n",
       "         6.09090909e+00,  1.76136364e-01, -2.16840434e-19,\n",
       "         4.77272727e-01,  9.52840909e+00,  1.49829545e+01,\n",
       "         1.41420455e+01,  8.88068182e+00,  1.85227273e+00,\n",
       "         4.20454545e-01],\n",
       "       [ 0.00000000e+00,  1.10738255e+00,  1.00268456e+01,\n",
       "         1.34093960e+01,  1.41610738e+01,  1.25369128e+01,\n",
       "         4.37583893e+00,  4.02684564e-02,  6.71140940e-03,\n",
       "         4.55704698e+00,  1.49328859e+01,  1.25637584e+01,\n",
       "         8.70469799e+00,  7.03355705e+00,  2.47651007e+00,\n",
       "         3.35570470e-02,  1.34228188e-02,  6.07382550e+00,\n",
       "         1.45302013e+01,  5.95302013e+00,  1.97315436e+00,\n",
       "         1.02684564e+00,  2.01342282e-01, -1.38777878e-17,\n",
       "         6.71140940e-03,  5.30201342e+00,  1.43355705e+01,\n",
       "         1.23624161e+01,  7.85906040e+00,  2.26174497e+00,\n",
       "         1.47651007e-01,  0.00000000e+00,  0.00000000e+00,\n",
       "         1.94630872e+00,  8.15436242e+00,  1.00939597e+01,\n",
       "         1.02684564e+01,  5.51006711e+00,  6.37583893e-01,\n",
       "         0.00000000e+00,  0.00000000e+00,  3.02013423e-01,\n",
       "         1.39597315e+00,  4.87248322e+00,  9.87248322e+00,\n",
       "         7.02013423e+00,  7.78523490e-01,  0.00000000e+00,\n",
       "         8.67361738e-19,  8.05369128e-01,  5.06040268e+00,\n",
       "         9.47651007e+00,  1.21275168e+01,  5.27516779e+00,\n",
       "         4.42953020e-01, -8.32667268e-17,  0.00000000e+00,\n",
       "         1.05369128e+00,  1.08926174e+01,  1.45369128e+01,\n",
       "         7.83892617e+00,  1.08724832e+00,  2.01342282e-02,\n",
       "         0.00000000e+00],\n",
       "       [ 0.00000000e+00,  1.96000000e-01,  6.47600000e+00,\n",
       "         1.24800000e+01,  1.18560000e+01,  5.69600000e+00,\n",
       "         6.84000000e-01,  8.00000000e-03,  4.00000000e-03,\n",
       "         2.59200000e+00,  1.39640000e+01,  9.25200000e+00,\n",
       "         9.44000000e+00,  1.04560000e+01,  1.33600000e+00,\n",
       "         4.00000000e-03,  1.30104261e-18,  4.28000000e+00,\n",
       "         1.28560000e+01,  4.50800000e+00,  6.89200000e+00,\n",
       "         1.11400000e+01,  1.90400000e+00,  0.00000000e+00,\n",
       "         0.00000000e+00,  2.31200000e+00,  1.03960000e+01,\n",
       "         1.17840000e+01,  1.31640000e+01,  1.20560000e+01,\n",
       "         2.45600000e+00,  0.00000000e+00,  0.00000000e+00,\n",
       "         3.00000000e-01,  3.17200000e+00,  6.17200000e+00,\n",
       "         6.84000000e+00,  1.12400000e+01,  4.23200000e+00,\n",
       "         0.00000000e+00,  0.00000000e+00,  2.28000000e-01,\n",
       "         2.37200000e+00,  1.98400000e+00,  1.76000000e+00,\n",
       "         1.10040000e+01,  6.37600000e+00,  1.60000000e-02,\n",
       "         3.46944695e-18,  7.60000000e-01,  8.10400000e+00,\n",
       "         5.66400000e+00,  4.76400000e+00,  1.22440000e+01,\n",
       "         5.97600000e+00,  1.12000000e-01,  0.00000000e+00,\n",
       "         1.68000000e-01,  6.38800000e+00,  1.34680000e+01,\n",
       "         1.44960000e+01,  9.94800000e+00,  2.30000000e+00,\n",
       "         1.12000000e-01],\n",
       "       [ 0.00000000e+00,  1.60194175e-01,  4.88834951e+00,\n",
       "         1.28689320e+01,  1.40631068e+01,  1.09805825e+01,\n",
       "         4.98543689e+00,  9.41747573e-01,  3.46944695e-18,\n",
       "         1.12135922e+00,  1.06553398e+01,  1.15145631e+01,\n",
       "         1.04320388e+01,  1.25825243e+01,  5.52427184e+00,\n",
       "         5.38834951e-01,  1.73472348e-18,  1.17961165e+00,\n",
       "         5.45145631e+00,  2.30097087e+00,  6.78640777e+00,\n",
       "         1.15339806e+01,  3.42233010e+00,  1.11650485e-01,\n",
       "        -2.16840434e-19,  9.75728155e-01,  5.04368932e+00,\n",
       "         6.50000000e+00,  1.21553398e+01,  1.21067961e+01,\n",
       "         4.79611650e+00,  4.85436893e-03,  0.00000000e+00,\n",
       "         1.44660194e+00,  8.63592233e+00,  1.30679612e+01,\n",
       "         1.46796117e+01,  1.06893204e+01,  3.93203883e+00,\n",
       "         0.00000000e+00, -1.73472348e-18,  1.08252427e+00,\n",
       "         5.10194175e+00,  1.14611650e+01,  1.10388350e+01,\n",
       "         3.73300971e+00,  5.38834951e-01,  1.04083409e-17,\n",
       "         2.60208521e-18,  1.01941748e-01,  2.98058252e+00,\n",
       "         1.22572816e+01,  6.39805825e+00,  4.56310680e-01,\n",
       "         9.70873786e-03, -1.38777878e-16, -1.08420217e-19,\n",
       "         1.26213592e-01,  6.09223301e+00,  1.19660194e+01,\n",
       "         2.70388350e+00,  2.86407767e-01,  3.39805825e-02,\n",
       "         1.66533454e-16],\n",
       "       [ 0.00000000e+00,  2.23463687e-02,  4.22905028e+00,\n",
       "         1.31396648e+01,  1.12681564e+01,  2.93854749e+00,\n",
       "         3.35195531e-02, -8.32667268e-17,  1.73472348e-18,\n",
       "         8.82681564e-01,  1.26201117e+01,  1.33687151e+01,\n",
       "         1.14078212e+01,  1.13687151e+01,  9.60893855e-01,\n",
       "         0.00000000e+00,  8.67361738e-19,  3.72625698e+00,\n",
       "         1.42122905e+01,  5.25139665e+00,  2.10614525e+00,\n",
       "         1.21173184e+01,  3.53072626e+00, -1.38777878e-17,\n",
       "        -4.33680869e-19,  5.29608939e+00,  1.26424581e+01,\n",
       "         2.03351955e+00,  2.29050279e-01,  9.07821229e+00,\n",
       "         6.47486034e+00, -8.67361738e-19,  0.00000000e+00,\n",
       "         5.88268156e+00,  1.14916201e+01,  8.65921788e-01,\n",
       "         3.35195531e-02,  8.81005587e+00,  7.15083799e+00,\n",
       "         0.00000000e+00, -3.46944695e-18,  3.51396648e+00,\n",
       "         1.32849162e+01,  1.65921788e+00,  1.49162011e+00,\n",
       "         1.13519553e+01,  5.84357542e+00,  3.46944695e-18,\n",
       "         8.67361738e-19,  8.04469274e-01,  1.31117318e+01,\n",
       "         9.96089385e+00,  1.03519553e+01,  1.32960894e+01,\n",
       "         2.47486034e+00,  2.23463687e-02, -2.16840434e-19,\n",
       "         5.58659218e-03,  4.19553073e+00,  1.35865922e+01,\n",
       "         1.33407821e+01,  5.48044693e+00,  3.18435754e-01,\n",
       "         1.67597765e-02],\n",
       "       [ 0.00000000e+00,  0.00000000e+00,  3.33333333e-02,\n",
       "         1.68888889e+00,  1.10333333e+01,  1.25000000e+01,\n",
       "         4.14444444e+00,  2.44444444e-01,  8.67361738e-19,\n",
       "         5.55555556e-02,  1.87777778e+00,  8.85555556e+00,\n",
       "         1.39333333e+01,  1.23888889e+01,  5.10000000e+00,\n",
       "         3.22222222e-01,  4.33680869e-19,  1.62222222e+00,\n",
       "         8.74444444e+00,  1.27555556e+01,  1.23000000e+01,\n",
       "         1.29111111e+01,  3.82222222e+00,  1.44444444e-01,\n",
       "        -2.16840434e-19,  3.62222222e+00,  1.21222222e+01,\n",
       "         1.19111111e+01,  1.31222222e+01,  1.35000000e+01,\n",
       "         2.50000000e+00, -4.33680869e-19,  0.00000000e+00,\n",
       "         1.92222222e+00,  6.85555556e+00,  7.23333333e+00,\n",
       "         1.16777778e+01,  1.25666667e+01,  1.84444444e+00,\n",
       "         0.00000000e+00, -1.73472348e-18,  8.11111111e-01,\n",
       "         1.97777778e+00,  3.76666667e+00,  1.16666667e+01,\n",
       "         1.18666667e+01,  1.21111111e+00, -6.93889390e-18,\n",
       "        -8.67361738e-19,  6.66666667e-02,  3.22222222e-01,\n",
       "         2.91111111e+00,  1.24777778e+01,  1.17111111e+01,\n",
       "         1.67777778e+00, -8.32667268e-17, -1.08420217e-19,\n",
       "        -5.55111512e-17, -8.88178420e-16,  1.76666667e+00,\n",
       "         1.12888889e+01,  1.07666667e+01,  1.74444444e+00,\n",
       "        -5.55111512e-17],\n",
       "       [ 0.00000000e+00,  1.11607143e-01,  3.99107143e+00,\n",
       "         1.18839286e+01,  1.23214286e+01,  5.36160714e+00,\n",
       "         4.33035714e-01,  2.77555756e-17,  8.92857143e-03,\n",
       "         8.57142857e-01,  8.24553571e+00,  1.35446429e+01,\n",
       "         1.25625000e+01,  9.87500000e+00,  1.56696429e+00,\n",
       "        -2.77555756e-17,  1.30104261e-18,  1.21428571e+00,\n",
       "         8.37053571e+00,  1.18839286e+01,  1.23348214e+01,\n",
       "         9.46428571e+00,  1.02678571e+00,  6.93889390e-18,\n",
       "         0.00000000e+00,  9.41964286e-01,  7.26339286e+00,\n",
       "         1.40848214e+01,  1.41785714e+01,  4.95535714e+00,\n",
       "         2.00892857e-01,  0.00000000e+00,  0.00000000e+00,\n",
       "         7.67857143e-01,  8.00446429e+00,  1.47812500e+01,\n",
       "         1.29107143e+01,  2.18750000e+00,  1.78571429e-02,\n",
       "         0.00000000e+00,  0.00000000e+00,  1.22767857e+00,\n",
       "         1.04553571e+01,  1.20178571e+01,  1.21294643e+01,\n",
       "         4.02678571e+00,  2.00892857e-01,  6.93889390e-18,\n",
       "         1.33928571e-02,  8.75000000e-01,  9.57142857e+00,\n",
       "         1.15714286e+01,  1.20758929e+01,  5.57589286e+00,\n",
       "         6.16071429e-01,  4.46428571e-03,  4.46428571e-03,\n",
       "         1.11607143e-01,  4.20089286e+00,  1.20089286e+01,\n",
       "         1.25982143e+01,  4.85714286e+00,  8.08035714e-01,\n",
       "         8.92857143e-03],\n",
       "       [ 0.00000000e+00,  9.42857143e-01,  1.01885714e+01,\n",
       "         1.44400000e+01,  7.77142857e+00,  9.82857143e-01,\n",
       "        -6.66133815e-16, -2.77555756e-17,  2.28571429e-02,\n",
       "         5.24000000e+00,  1.37200000e+01,  1.26228571e+01,\n",
       "         1.16914286e+01,  3.23428571e+00,  1.71428571e-02,\n",
       "        -1.38777878e-17,  1.14285714e-02,  4.56000000e+00,\n",
       "         8.11428571e+00,  6.13714286e+00,  1.21600000e+01,\n",
       "         3.56000000e+00,  1.71428571e-02, -1.38777878e-17,\n",
       "        -2.16840434e-19,  9.65714286e-01,  2.81714286e+00,\n",
       "         7.00571429e+00,  1.25371429e+01,  2.56000000e+00,\n",
       "         4.00000000e-02, -4.33680869e-19,  0.00000000e+00,\n",
       "         4.57142857e-02,  1.57142857e+00,  9.89714286e+00,\n",
       "         1.06971429e+01,  1.45142857e+00,  0.00000000e+00,\n",
       "         0.00000000e+00, -1.73472348e-18,  2.51428571e-01,\n",
       "         4.45714286e+00,  1.12457143e+01,  7.74285714e+00,\n",
       "         2.37142857e+00,  8.45714286e-01,  1.14285714e-02,\n",
       "         1.73472348e-18,  1.19428571e+00,  1.09942857e+01,\n",
       "         1.37314286e+01,  1.19257143e+01,  1.11600000e+01,\n",
       "         7.66857143e+00,  1.10285714e+00, -1.08420217e-19,\n",
       "         9.31428571e-01,  1.03885714e+01,  1.44685714e+01,\n",
       "         1.35028571e+01,  1.23542857e+01,  8.96571429e+00,\n",
       "         2.95428571e+00],\n",
       "       [ 0.00000000e+00,  1.66533454e-16,  1.15934066e+00,\n",
       "         1.12252747e+01,  9.53296703e+00,  1.41758242e+00,\n",
       "         5.49450549e-03, -5.55111512e-17,  8.67361738e-19,\n",
       "         6.04395604e-02,  7.18131868e+00,  1.45604396e+01,\n",
       "         6.19230769e+00,  8.29670330e-01,  2.74725275e-02,\n",
       "        -1.38777878e-17,  4.33680869e-19,  7.69230769e-01,\n",
       "         1.24560440e+01,  9.47252747e+00,  9.34065934e-01,\n",
       "         1.09890110e-01,  0.00000000e+00, -6.93889390e-18,\n",
       "        -4.33680869e-19,  2.29670330e+00,  1.36208791e+01,\n",
       "         8.09340659e+00,  3.87362637e+00,  1.92857143e+00,\n",
       "         1.04395604e-01, -8.67361738e-19,  0.00000000e+00,\n",
       "         3.52747253e+00,  1.46758242e+01,  1.29175824e+01,\n",
       "         1.22527473e+01,  1.02857143e+01,  2.71978022e+00,\n",
       "         0.00000000e+00, -3.46944695e-18,  1.86813187e+00,\n",
       "         1.45164835e+01,  1.06538462e+01,  5.57692308e+00,\n",
       "         1.01923077e+01,  9.13186813e+00,  2.30769231e-01,\n",
       "         8.67361738e-19,  1.75824176e-01,  1.02857143e+01,\n",
       "         1.26263736e+01,  5.41758242e+00,  1.13241758e+01,\n",
       "         1.08956044e+01,  6.26373626e-01, -2.16840434e-19,\n",
       "         0.00000000e+00,  1.44505495e+00,  1.07362637e+01,\n",
       "         1.50989011e+01,  1.31318681e+01,  4.62087912e+00,\n",
       "         1.70329670e-01]])"
      ]
     },
     "execution_count": 142,
     "metadata": {},
     "output_type": "execute_result"
    }
   ],
   "source": [
    "# Vizsgáld meg a shape-jét a kapott model cluster_centers_ paraméterének.\n",
    "model, clusters = predict(10,0,digits)\n",
    "model.cluster_centers_.shape\n",
    "model.cluster_centers_"
   ]
  },
  {
   "cell_type": "code",
   "execution_count": 143,
   "metadata": {},
   "outputs": [
    {
     "data": {
      "image/png": "[encoded data removed]",
      "text/plain": [
       "<Figure size 640x480 with 1 Axes>"
      ]
     },
     "metadata": {},
     "output_type": "display_data"
    }
   ],
   "source": [
    "# Készíts egy plotot ami a cluster középpontokat megjeleníti\n",
    "plt.scatter(model.cluster_centers_[:, 10],model.cluster_centers_[:, 63])\n",
    "plt.show()"
   ]
  },
  {
   "cell_type": "code",
   "execution_count": 145,
   "metadata": {},
   "outputs": [],
   "source": [
    "# Készíts egy függvényt ami visszaadja a predictált cluster osztályokat\n",
    "# NOTE: amit a predict-ből visszakaptunk \"clusters\" azok lesznek a predictált cluster osztályok\n",
    "# HELP: amit a model predictált cluster osztályok még nem a labelek, hanem csak random cluster osztályok, \n",
    "#       Hogy label legyen belőlük:\n",
    "#       1. készíts egy result array-t ami ugyan annyi elemű mint a predictált cluster array\n",
    "#       2. menj végig mindegyik cluster osztályon (0,1....9)\n",
    "#       3. készíts egy maszkot ami az adott cluster osztályba tartozó elemeket adja vissza\n",
    "#       4. a digits.target-jét indexeld meg ezzel a maszkkal\n",
    "#       5. számold ki ennel a subarray-nek a móduszát\n",
    "#       6. a result array-ben tedd egyenlővé a módusszal azokat az indexeket ahol a maszk True \n",
    "#       Erre azért van szükség mert semmi nem biztosítja nekünk azt, hogy a \"0\" cluster a \"0\" label lesz, lehet, hogy az \"5\" label lenne az.\n",
    "\n",
    "# Függvény neve: get_labels(clusters:np.ndarray, digits)\n",
    "# Függvény visszatérési értéke: labels:np.ndarray\n",
    "\n",
    "def get_labels(clusters:np.ndarray, digits):\n",
    "    result_array = np.empty(clusters.shape)\n",
    "    for c in digits.target_names:\n",
    "        mask = c == clusters\n",
    "        sub_target = digits.target[mask]\n",
    "        modus = mode(sub_target).mode.item()\n",
    "        result_array[mask] = modus\n",
    "    return result_array"
   ]
  },
  {
   "cell_type": "code",
   "execution_count": 146,
   "metadata": {},
   "outputs": [],
   "source": [
    "# Készíts egy függvényt ami kiszámolja a model accuracy-jét\n",
    "# Függvény neve: calc_accuracy(target_labels:np.ndarray,predicted_labels:np.ndarray)\n",
    "# Függvény visszatérési értéke: accuracy:float\n",
    "# NOTE: Kerekítsd 2 tizedes jegyre az accuracy-t\n",
    "def calc_accuracy(target_labels:np.ndarray,predicted_labels:np.ndarray):\n",
    "        accuracy = accuracy_score(digits.target, get_labels(clusters,digits))\n",
    "        return accuracy\n"
   ]
  },
  {
   "cell_type": "code",
   "execution_count": 147,
   "metadata": {},
   "outputs": [
    {
     "name": "stderr",
     "output_type": "stream",
     "text": [
      "/var/folders/ms/lx6k291d71z8f387pwx9g8cm0000gn/T/ipykernel_1751/2310280466.py:21: FutureWarning: Unlike other reduction functions (e.g. `skew`, `kurtosis`), the default behavior of `mode` typically preserves the axis it acts along. In SciPy 1.11.0, this behavior will change: the default value of `keepdims` will become False, the `axis` over which the statistic is taken will be eliminated, and the value None will no longer be accepted. Set `keepdims` to True or False to avoid this warning.\n",
      "  modus = mode(sub_target).mode.item()\n"
     ]
    },
    {
     "data": {
      "text/plain": [
       "0.7935447968836951"
      ]
     },
     "execution_count": 147,
     "metadata": {},
     "output_type": "execute_result"
    }
   ],
   "source": [
    "calc_accuracy(clusters,clusters)"
   ]
  },
  {
   "cell_type": "code",
   "execution_count": 149,
   "metadata": {},
   "outputs": [
    {
     "name": "stderr",
     "output_type": "stream",
     "text": [
      "/var/folders/ms/lx6k291d71z8f387pwx9g8cm0000gn/T/ipykernel_1751/2310280466.py:21: FutureWarning: Unlike other reduction functions (e.g. `skew`, `kurtosis`), the default behavior of `mode` typically preserves the axis it acts along. In SciPy 1.11.0, this behavior will change: the default value of `keepdims` will become False, the `axis` over which the statistic is taken will be eliminated, and the value None will no longer be accepted. Set `keepdims` to True or False to avoid this warning.\n",
      "  modus = mode(sub_target).mode.item()\n"
     ]
    },
    {
     "data": {
      "text/plain": [
       "array([[177,   0,   0,   0,   1,   0,   0,   0,   0,   0],\n",
       "       [  0,  55,  24,   1,   0,   1,   2,   0,  99,   0],\n",
       "       [  1,   2, 148,  13,   0,   0,   0,   3,   8,   2],\n",
       "       [  0,   0,   0, 154,   0,   2,   0,   7,   7,  13],\n",
       "       [  0,   7,   0,   0, 163,   0,   0,   7,   4,   0],\n",
       "       [  0,   0,   0,   0,   2, 136,   1,   0,   0,  43],\n",
       "       [  1,   1,   0,   0,   0,   0, 177,   0,   2,   0],\n",
       "       [  0,   0,   0,   0,   0,   0,   0, 177,   2,   0],\n",
       "       [  0,   5,   3,   2,   0,   4,   2,   5, 100,  53],\n",
       "       [  0,  20,   0,   6,   0,   6,   0,   7,   2, 139]])"
      ]
     },
     "execution_count": 149,
     "metadata": {},
     "output_type": "execute_result"
    }
   ],
   "source": [
    "# Készíts egy confusion mátrixot és plot-old seaborn segítségével\n",
    "confusion_matrix(digits.target,get_labels(clusters,digits))"
   ]
  },
  {
   "cell_type": "code",
   "execution_count": 1,
   "metadata": {},
   "outputs": [
    {
     "name": "stderr",
     "output_type": "stream",
     "text": [
      "/Users/banoczymartin/Library/Python/3.9/lib/python/site-packages/sklearn/cluster/_kmeans.py:870: FutureWarning: The default value of `n_init` will change from 10 to 'auto' in 1.4. Set the value of `n_init` explicitly to suppress the warning\n",
      "  warnings.warn(\n",
      "/Users/banoczymartin/Library/Mobile Documents/com~apple~CloudDocs/OE/4/bevadat/lab/BEVADAT2022232/HAZI/HAZI09/HAZI09.py:30: FutureWarning: Unlike other reduction functions (e.g. `skew`, `kurtosis`), the default behavior of `mode` typically preserves the axis it acts along. In SciPy 1.11.0, this behavior will change: the default value of `keepdims` will become False, the `axis` over which the statistic is taken will be eliminated, and the value None will no longer be accepted. Set `keepdims` to True or False to avoid this warning.\n",
      "  modus = mode(sub_target).mode.item()\n"
     ]
    }
   ],
   "source": [
    "from HAZI09 import KMeansOnDigits\n",
    "\n",
    "mykmeans =  KMeansOnDigits(10,0)\n",
    "mykmeans.load_dataset()\n",
    "mykmeans.predict()\n",
    "mykmeans.get_labels()"
   ]
  },
  {
   "cell_type": "code",
   "execution_count": 2,
   "metadata": {},
   "outputs": [
    {
     "data": {
      "text/plain": [
       "0.7935447968836951"
      ]
     },
     "execution_count": 2,
     "metadata": {},
     "output_type": "execute_result"
    }
   ],
   "source": [
    "mykmeans.calc_accuracy()\n",
    "mykmeans.accuracy"
   ]
  },
  {
   "cell_type": "code",
   "execution_count": 3,
   "metadata": {},
   "outputs": [
    {
     "data": {
      "text/plain": [
       "array([[177,   0,   0,   0,   1,   0,   0,   0,   0,   0],\n",
       "       [  0,  55,  24,   1,   0,   1,   2,   0,  99,   0],\n",
       "       [  1,   2, 148,  13,   0,   0,   0,   3,   8,   2],\n",
       "       [  0,   0,   0, 154,   0,   2,   0,   7,   7,  13],\n",
       "       [  0,   7,   0,   0, 163,   0,   0,   7,   4,   0],\n",
       "       [  0,   0,   0,   0,   2, 136,   1,   0,   0,  43],\n",
       "       [  1,   1,   0,   0,   0,   0, 177,   0,   2,   0],\n",
       "       [  0,   0,   0,   0,   0,   0,   0, 177,   2,   0],\n",
       "       [  0,   5,   3,   2,   0,   4,   2,   5, 100,  53],\n",
       "       [  0,  20,   0,   6,   0,   6,   0,   7,   2, 139]])"
      ]
     },
     "execution_count": 3,
     "metadata": {},
     "output_type": "execute_result"
    }
   ],
   "source": [
    "mykmeans.confusion_matrix()\n",
    "mykmeans.mat"
   ]
  }
 ],
 "metadata": {
  "kernelspec": {
   "display_name": "Python 3",
   "language": "python",
   "name": "python3"
  },
  "language_info": {
   "codemirror_mode": {
    "name": "ipython",
    "version": 3
   },
   "file_extension": ".py",
   "mimetype": "text/x-python",
   "name": "python",
   "nbconvert_exporter": "python",
   "pygments_lexer": "ipython3",
   "version": "3.9.6"
  },
  "orig_nbformat": 4
 },
 "nbformat": 4,
 "nbformat_minor": 2
}
