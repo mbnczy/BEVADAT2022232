{
 "cells": [
  {
   "cell_type": "code",
   "execution_count": 1,
   "metadata": {},
   "outputs": [],
   "source": [
    "import tensorflow as tf"
   ]
  },
  {
   "cell_type": "code",
   "execution_count": null,
   "metadata": {},
   "outputs": [],
   "source": [
    "'''\n",
    "Készíts egy metódust ami a mnist adatbázisból betölti a train és test adatokat. (tf.keras.datasets.mnist.load_data())\n",
    "Majd a tanitó, és tesztelő adatokat normalizálja, és vissza is tér velük.\n",
    "\n",
    "\n",
    "Egy példa a kimenetre: train_images, train_labels, test_images, test_labels\n",
    "függvény neve: mnist_digit_data\n",
    "'''"
   ]
  },
  {
   "cell_type": "code",
   "execution_count": 5,
   "metadata": {},
   "outputs": [],
   "source": [
    "def mnist_digit_data():\n",
    "    (train_images, train_labels), (test_images, test_labels) = tf.keras.datasets.mnist.load_data()\n",
    "    return train_images, train_labels, test_images, test_labels"
   ]
  },
  {
   "cell_type": "code",
   "execution_count": 84,
   "metadata": {},
   "outputs": [],
   "source": [
    "train_images, train_labels, test_images, test_labels = mnist_digit_data()\n",
    "# building the input vector from the 28x28 pixels\n",
    "train_images = train_images.reshape(60000, 784)\n",
    "test_images = test_images.reshape(10000, 784)\n",
    "train_images = train_images.astype('float32')\n",
    "test_images = test_images.astype('float32')\n",
    "\n",
    "# normalizing the data to help with the training\n",
    "train_images /= 255\n",
    "test_images /= 255"
   ]
  },
  {
   "cell_type": "code",
   "execution_count": 85,
   "metadata": {},
   "outputs": [
    {
     "data": {
      "text/plain": [
       "(60000, 784)"
      ]
     },
     "execution_count": 85,
     "metadata": {},
     "output_type": "execute_result"
    }
   ],
   "source": [
    "train_images.shape"
   ]
  },
  {
   "cell_type": "code",
   "execution_count": null,
   "metadata": {},
   "outputs": [],
   "source": [
    "'''\n",
    "Készíts egy neurális hálót, ami képes felismerni a kézírásos számokat.\n",
    "A háló kimenete legyen 10 elemű, és a softmax aktivációs függvényt használja.\n",
    "Hálon belül tetszőleges számú réteg lehet.\n",
    "\n",
    "\n",
    "Egy példa a kimenetre: model,\n",
    "return type: keras.engine.sequential.Sequential\n",
    "függvény neve: mnist_model\n",
    "'''"
   ]
  },
  {
   "cell_type": "code",
   "execution_count": 86,
   "metadata": {},
   "outputs": [],
   "source": [
    "def mnist_model():\n",
    "    model = tf.keras.Sequential([\n",
    "        tf.keras.layers.Flatten(input_shape=(784,)),\n",
    "        tf.keras.layers.Dense(512),\n",
    "        tf.keras.layers.Dense(10, activation='softmax')\n",
    "    ])\n",
    "    return model"
   ]
  },
  {
   "cell_type": "code",
   "execution_count": 87,
   "metadata": {},
   "outputs": [],
   "source": [
    "mymodel = mnist_model()"
   ]
  },
  {
   "cell_type": "code",
   "execution_count": null,
   "metadata": {},
   "outputs": [],
   "source": [
    "'''\n",
    "Készíts egy metódust, ami a bemeneti hálot compile-olja.\n",
    "Optimizer: Adam\n",
    "Loss: SparseCategoricalCrossentropy(from_logits=False)\n",
    "\n",
    "Egy példa a bemenetre: model\n",
    "Egy példa a kimenetre: model\n",
    "return type: keras.engine.sequential.Sequential\n",
    "függvény neve: model_compile\n",
    "'''"
   ]
  },
  {
   "cell_type": "code",
   "execution_count": 88,
   "metadata": {},
   "outputs": [],
   "source": [
    "def model_compile(model):\n",
    "    model.compile(optimizer='adam',\n",
    "              loss=tf.keras.losses.SparseCategoricalCrossentropy(from_logits=False),\n",
    "              metrics=['accuracy'])\n",
    "    return model"
   ]
  },
  {
   "cell_type": "code",
   "execution_count": 89,
   "metadata": {},
   "outputs": [],
   "source": [
    "mymodel = model_compile(mymodel)"
   ]
  },
  {
   "cell_type": "code",
   "execution_count": null,
   "metadata": {},
   "outputs": [],
   "source": [
    "'''\n",
    "Készíts egy metódust, ami a bemeneti hálót feltanítja.\n",
    "\n",
    "Egy példa a bemenetre: model,epochs, train_images, train_labels\n",
    "Egy példa a kimenetre: model\n",
    "return type: keras.engine.sequential.Sequential\n",
    "függvény neve: model_fit\n",
    "'''"
   ]
  },
  {
   "cell_type": "code",
   "execution_count": 90,
   "metadata": {},
   "outputs": [],
   "source": [
    "def model_fit(model, epochs, train_images, train_labels):\n",
    "    model.fit(train_images,train_labels,epochs=epochs)\n",
    "    return model"
   ]
  },
  {
   "cell_type": "code",
   "execution_count": 91,
   "metadata": {},
   "outputs": [
    {
     "name": "stdout",
     "output_type": "stream",
     "text": [
      "Epoch 1/10\n",
      "1875/1875 [==============================] - 3s 2ms/step - loss: 0.3703 - accuracy: 0.8946\n",
      "Epoch 2/10\n",
      "1875/1875 [==============================] - 3s 2ms/step - loss: 0.3164 - accuracy: 0.9111\n",
      "Epoch 3/10\n",
      "1875/1875 [==============================] - 3s 2ms/step - loss: 0.3056 - accuracy: 0.9138\n",
      "Epoch 4/10\n",
      "1875/1875 [==============================] - 3s 2ms/step - loss: 0.2987 - accuracy: 0.9151\n",
      "Epoch 5/10\n",
      "1875/1875 [==============================] - 3s 2ms/step - loss: 0.2920 - accuracy: 0.9187\n",
      "Epoch 6/10\n",
      "1875/1875 [==============================] - 3s 2ms/step - loss: 0.2879 - accuracy: 0.9182\n",
      "Epoch 7/10\n",
      "1875/1875 [==============================] - 3s 2ms/step - loss: 0.2834 - accuracy: 0.9205\n",
      "Epoch 8/10\n",
      "1875/1875 [==============================] - 5s 2ms/step - loss: 0.2808 - accuracy: 0.9201\n",
      "Epoch 9/10\n",
      "1875/1875 [==============================] - 4s 2ms/step - loss: 0.2768 - accuracy: 0.9220\n",
      "Epoch 10/10\n",
      "1875/1875 [==============================] - 4s 2ms/step - loss: 0.2737 - accuracy: 0.9230\n"
     ]
    }
   ],
   "source": [
    "mymodel = model_fit(mymodel, 10,train_images,train_labels)"
   ]
  },
  {
   "cell_type": "code",
   "execution_count": null,
   "metadata": {},
   "outputs": [],
   "source": [
    "'''\n",
    "Készíts egy metódust, ami a bemeneti hálót kiértékeli a teszt adatokon.\n",
    "\n",
    "Egy példa a bemenetre: model, test_images, test_labels\n",
    "Egy példa a kimenetre: test_loss, test_acc\n",
    "return type: float, float\n",
    "függvény neve: model_evaluate\n",
    "'''"
   ]
  },
  {
   "cell_type": "code",
   "execution_count": 35,
   "metadata": {},
   "outputs": [],
   "source": [
    "def model_evaluate(model, test_images, test_labels):\n",
    "    test_loss, test_acc = model.evaluate(test_images,  test_labels, verbose=2)\n",
    "    return test_loss, test_acc"
   ]
  },
  {
   "cell_type": "code",
   "execution_count": 65,
   "metadata": {},
   "outputs": [
    {
     "name": "stdout",
     "output_type": "stream",
     "text": [
      "313/313 - 0s - loss: 2.3019 - accuracy: 0.1049 - 180ms/epoch - 574us/step\n"
     ]
    },
    {
     "data": {
      "text/plain": [
       "(2.3019001483917236, 0.10490000247955322)"
      ]
     },
     "execution_count": 65,
     "metadata": {},
     "output_type": "execute_result"
    }
   ],
   "source": [
    "test_loss, test_acc = model_evaluate(mymodel,test_images,test_labels)\n",
    "test_loss, test_acc"
   ]
  }
 ],
 "metadata": {
  "kernelspec": {
   "display_name": "Python 3",
   "language": "python",
   "name": "python3"
  },
  "language_info": {
   "codemirror_mode": {
    "name": "ipython",
    "version": 3
   },
   "file_extension": ".py",
   "mimetype": "text/x-python",
   "name": "python",
   "nbconvert_exporter": "python",
   "pygments_lexer": "ipython3",
   "version": "3.9.6"
  },
  "orig_nbformat": 4
 },
 "nbformat": 4,
 "nbformat_minor": 2
}
