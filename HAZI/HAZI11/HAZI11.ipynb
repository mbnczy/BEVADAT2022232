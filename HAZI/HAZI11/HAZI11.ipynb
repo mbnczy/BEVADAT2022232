{
 "cells": [
  {
   "cell_type": "code",
   "execution_count": 72,
   "metadata": {},
   "outputs": [],
   "source": [
    "\n",
    "import tensorflow as tf\n",
    "import numpy as np\n",
    "'''\n",
    "Készíts egy metódust ami a cifar100 adatbázisból betölti a train és test adatokat. (tf.keras.datasets.cifar100.load_data())\n",
    "Majd a tanitó, és tesztelő adatokat normalizálja, és vissza is tér velük.\n",
    "\n",
    "\n",
    "Egy példa a kimenetre: train_images, train_labels, test_images, test_labels\n",
    "függvény neve: cifar100_data\n",
    "'''\n",
    "\n",
    "def cifar100_data():\n",
    "    (train_images, train_labels), (test_images, test_labels) = tf.keras.datasets.cifar100.load_data()\n",
    "    train_images, test_images = train_images / 255.0, test_images / 255.0\n",
    "    return train_images, train_labels, test_images, test_labels\n",
    "\n"
   ]
  },
  {
   "cell_type": "code",
   "execution_count": 73,
   "metadata": {},
   "outputs": [],
   "source": [
    "train_images, train_labels, test_images, test_labels = cifar100_data()"
   ]
  },
  {
   "cell_type": "code",
   "execution_count": 74,
   "metadata": {},
   "outputs": [
    {
     "data": {
      "text/plain": [
       "(50000, 32, 32, 3)"
      ]
     },
     "execution_count": 74,
     "metadata": {},
     "output_type": "execute_result"
    }
   ],
   "source": [
    "train_images.shape"
   ]
  },
  {
   "cell_type": "code",
   "execution_count": 122,
   "metadata": {},
   "outputs": [],
   "source": [
    "'''\n",
    "Készíts egy konvolúciós neurális hálót, ami képes felismerni a képen mi van a 100 osztály közül.\n",
    "A háló kimenete legyen 100 elemű, és a softmax aktivációs függvényt használja.\n",
    "Hálon belül tetszőleges számú réteg lehet..\n",
    "\n",
    "\n",
    "Egy példa a kimenetre: model,\n",
    "return type: keras.engine.sequential.Sequential\n",
    "függvény neve: cifar100_model\n",
    "'''\n",
    "def cifar100_model():\n",
    "    model = tf.keras.models.Sequential()\n",
    "    model.add(tf.keras.layers.Conv2D(32, (3, 3), activation='relu', input_shape=(32, 32, 3)))\n",
    "    model.add(tf.keras.layers.MaxPooling2D((2, 2)))\n",
    "    model.add(tf.keras.layers.Conv2D(64, (3, 3), activation='relu'))\n",
    "    model.add(tf.keras.layers.MaxPooling2D((2, 2)))\n",
    "    model.add(tf.keras.layers.Conv2D(64, (3, 3), activation='relu'))\n",
    "    model.add(tf.keras.layers.Flatten())\n",
    "    model.add(tf.keras.layers.Dense(64, activation='relu'))\n",
    "    model.add(tf.keras.layers.Dense(100, activation='softmax'))\n",
    "    return model"
   ]
  },
  {
   "cell_type": "code",
   "execution_count": 123,
   "metadata": {},
   "outputs": [],
   "source": [
    "model = cifar100_model()"
   ]
  },
  {
   "cell_type": "code",
   "execution_count": 107,
   "metadata": {},
   "outputs": [
    {
     "name": "stdout",
     "output_type": "stream",
     "text": [
      "Model: \"sequential_13\"\n",
      "_________________________________________________________________\n",
      " Layer (type)                Output Shape              Param #   \n",
      "=================================================================\n",
      " conv2d_39 (Conv2D)          (None, 30, 30, 32)        896       \n",
      "                                                                 \n",
      " max_pooling2d_26 (MaxPoolin  (None, 15, 15, 32)       0         \n",
      " g2D)                                                            \n",
      "                                                                 \n",
      " conv2d_40 (Conv2D)          (None, 13, 13, 64)        18496     \n",
      "                                                                 \n",
      " max_pooling2d_27 (MaxPoolin  (None, 6, 6, 64)         0         \n",
      " g2D)                                                            \n",
      "                                                                 \n",
      " conv2d_41 (Conv2D)          (None, 4, 4, 64)          36928     \n",
      "                                                                 \n",
      " flatten_11 (Flatten)        (None, 1024)              0         \n",
      "                                                                 \n",
      " dense_23 (Dense)            (None, 256)               262400    \n",
      "                                                                 \n",
      " dense_24 (Dense)            (None, 256)               65792     \n",
      "                                                                 \n",
      " dense_25 (Dense)            (None, 100)               25700     \n",
      "                                                                 \n",
      "=================================================================\n",
      "Total params: 410,212\n",
      "Trainable params: 410,212\n",
      "Non-trainable params: 0\n",
      "_________________________________________________________________\n"
     ]
    }
   ],
   "source": [
    "model.summary()"
   ]
  },
  {
   "cell_type": "code",
   "execution_count": 124,
   "metadata": {},
   "outputs": [],
   "source": [
    "'''\n",
    "Készíts egy metódust, ami a bemeneti hálot compile-olja.\n",
    "Optimizer: Adam\n",
    "Loss: SparseCategoricalCrossentropy(from_logits=False)\n",
    "\n",
    "Egy példa a bemenetre: model\n",
    "Egy példa a kimenetre: model\n",
    "return type: keras.engine.sequential.Sequential\n",
    "függvény neve: model_compiles\n",
    "'''\n",
    "def model_compile(model):\n",
    "    model.compile(optimizer='adam',\n",
    "              loss=tf.keras.losses.SparseCategoricalCrossentropy(from_logits=False),\n",
    "              metrics=['accuracy'])\n",
    "    return model"
   ]
  },
  {
   "cell_type": "code",
   "execution_count": 125,
   "metadata": {},
   "outputs": [],
   "source": [
    "model = model_compile(model)"
   ]
  },
  {
   "cell_type": "code",
   "execution_count": 103,
   "metadata": {},
   "outputs": [],
   "source": [
    "'''\n",
    "Készíts egy metódust, ami a bemeneti hálót feltanítja.\n",
    "\n",
    "Egy példa a bemenetre: model,epochs, train_images, train_labelsz\n",
    "Egy példa a kimenetre: model\n",
    "return type: keras.engine.sequential.Sequential\n",
    "függvény neve: model_fit\n",
    "'''\n",
    "def model_fit(model,epochs, train_images, train_labels):\n",
    "    return model.fit(train_images, train_labels, epochs = epochs)"
   ]
  },
  {
   "cell_type": "code",
   "execution_count": 128,
   "metadata": {},
   "outputs": [
    {
     "name": "stdout",
     "output_type": "stream",
     "text": [
      "Epoch 1/15\n",
      "1563/1563 [==============================] - 12s 8ms/step - loss: 2.0044 - accuracy: 0.4648\n",
      "Epoch 2/15\n",
      "1563/1563 [==============================] - 13s 8ms/step - loss: 1.9673 - accuracy: 0.4718\n",
      "Epoch 3/15\n",
      "1563/1563 [==============================] - 13s 8ms/step - loss: 1.9340 - accuracy: 0.4780\n",
      "Epoch 4/15\n",
      "1563/1563 [==============================] - 13s 8ms/step - loss: 1.8972 - accuracy: 0.4871\n",
      "Epoch 5/15\n",
      "1563/1563 [==============================] - 13s 8ms/step - loss: 1.8685 - accuracy: 0.4929\n",
      "Epoch 6/15\n",
      "1563/1563 [==============================] - 13s 8ms/step - loss: 1.8344 - accuracy: 0.5004\n",
      "Epoch 7/15\n",
      "1563/1563 [==============================] - 13s 8ms/step - loss: 1.8049 - accuracy: 0.5049\n",
      "Epoch 8/15\n",
      "1563/1563 [==============================] - 13s 9ms/step - loss: 1.7760 - accuracy: 0.5130\n",
      "Epoch 9/15\n",
      "1563/1563 [==============================] - 14s 9ms/step - loss: 1.7428 - accuracy: 0.5225\n",
      "Epoch 10/15\n",
      "1563/1563 [==============================] - 14s 9ms/step - loss: 1.7182 - accuracy: 0.5268\n",
      "Epoch 11/15\n",
      "1563/1563 [==============================] - 13s 9ms/step - loss: 1.6899 - accuracy: 0.5319\n",
      "Epoch 12/15\n",
      "1563/1563 [==============================] - 13s 9ms/step - loss: 1.6643 - accuracy: 0.5371\n",
      "Epoch 13/15\n",
      "1563/1563 [==============================] - 14s 9ms/step - loss: 1.6350 - accuracy: 0.5448\n",
      "Epoch 14/15\n",
      "1563/1563 [==============================] - 14s 9ms/step - loss: 1.6185 - accuracy: 0.5468\n",
      "Epoch 15/15\n",
      "1563/1563 [==============================] - 14s 9ms/step - loss: 1.5928 - accuracy: 0.5530\n"
     ]
    }
   ],
   "source": [
    "history = model_fit(model,15, train_images, train_labels)"
   ]
  },
  {
   "cell_type": "code",
   "execution_count": 116,
   "metadata": {},
   "outputs": [],
   "source": [
    "'''\n",
    "Készíts egy metódust, ami a bemeneti hálót kiértékeli a teszt adatokon.\n",
    "\n",
    "Egy példa a bemenetre: model, test_images, test_labels\n",
    "Egy példa a kimenetre: test_loss, test_acc\n",
    "return type: float, float\n",
    "függvény neve: model_evaluate\n",
    "'''\n",
    "def model_evaluate(model, test_images, test_labels):\n",
    "    test_loss, test_acc = model.evaluate(test_images,  test_labels)\n",
    "    return test_loss, test_acc\n"
   ]
  },
  {
   "cell_type": "code",
   "execution_count": 120,
   "metadata": {},
   "outputs": [
    {
     "name": "stdout",
     "output_type": "stream",
     "text": [
      "313/313 [==============================] - 1s 3ms/step - loss: 3.7328 - accuracy: 0.3363\n"
     ]
    }
   ],
   "source": [
    "test_loss, test_acc = model.evaluate(test_images,  test_labels)"
   ]
  },
  {
   "cell_type": "code",
   "execution_count": 129,
   "metadata": {},
   "outputs": [
    {
     "name": "stdout",
     "output_type": "stream",
     "text": [
      "313/313 [==============================] - 1s 3ms/step - loss: 2.9980 - accuracy: 0.3403\n"
     ]
    },
    {
     "data": {
      "text/plain": [
       "(2.9980063438415527, 0.3402999937534332)"
      ]
     },
     "execution_count": 129,
     "metadata": {},
     "output_type": "execute_result"
    }
   ],
   "source": [
    "model_evaluate(model,test_images,test_labels)"
   ]
  },
  {
   "cell_type": "code",
   "execution_count": 2,
   "metadata": {},
   "outputs": [],
   "source": [
    "import HAZI11\n",
    "\n",
    "train_images, train_labels, test_images, test_labels = HAZI11.cifar100_data()"
   ]
  },
  {
   "cell_type": "code",
   "execution_count": 3,
   "metadata": {},
   "outputs": [],
   "source": [
    "model = HAZI11.cifar100_model()"
   ]
  },
  {
   "cell_type": "code",
   "execution_count": 5,
   "metadata": {},
   "outputs": [],
   "source": [
    "model = HAZI11.model_compile(model)"
   ]
  },
  {
   "cell_type": "code",
   "execution_count": 6,
   "metadata": {},
   "outputs": [
    {
     "name": "stdout",
     "output_type": "stream",
     "text": [
      "Epoch 1/10\n",
      "1563/1563 [==============================] - 22s 14ms/step - loss: 3.9953 - accuracy: 0.0860\n",
      "Epoch 2/10\n",
      "1563/1563 [==============================] - 22s 14ms/step - loss: 3.3200 - accuracy: 0.1948\n",
      "Epoch 3/10\n",
      "1563/1563 [==============================] - 23s 15ms/step - loss: 3.0183 - accuracy: 0.2521\n",
      "Epoch 4/10\n",
      "1563/1563 [==============================] - 22s 14ms/step - loss: 2.8355 - accuracy: 0.2898\n",
      "Epoch 5/10\n",
      "1563/1563 [==============================] - 22s 14ms/step - loss: 2.6997 - accuracy: 0.3200\n",
      "Epoch 6/10\n",
      "1563/1563 [==============================] - 22s 14ms/step - loss: 2.5875 - accuracy: 0.3390\n",
      "Epoch 7/10\n",
      "1563/1563 [==============================] - 22s 14ms/step - loss: 2.5019 - accuracy: 0.3590\n",
      "Epoch 8/10\n",
      "1563/1563 [==============================] - 23s 15ms/step - loss: 2.4236 - accuracy: 0.3760\n",
      "Epoch 9/10\n",
      "1563/1563 [==============================] - 23s 15ms/step - loss: 2.3537 - accuracy: 0.3908\n",
      "Epoch 10/10\n",
      "1563/1563 [==============================] - 22s 14ms/step - loss: 2.2914 - accuracy: 0.4038\n"
     ]
    }
   ],
   "source": [
    "model = HAZI11.model_fit(model,10,train_images, train_labels)"
   ]
  },
  {
   "cell_type": "code",
   "execution_count": 7,
   "metadata": {},
   "outputs": [
    {
     "name": "stdout",
     "output_type": "stream",
     "text": [
      "313/313 - 2s - loss: 2.6423 - accuracy: 0.3401 - 2s/epoch - 5ms/step\n"
     ]
    }
   ],
   "source": [
    "test_loss, test_acc = HAZI11.model_evaluate(model,test_images,test_labels)"
   ]
  }
 ],
 "metadata": {
  "kernelspec": {
   "display_name": "Python 3",
   "language": "python",
   "name": "python3"
  },
  "language_info": {
   "codemirror_mode": {
    "name": "ipython",
    "version": 3
   },
   "file_extension": ".py",
   "mimetype": "text/x-python",
   "name": "python",
   "nbconvert_exporter": "python",
   "pygments_lexer": "ipython3",
   "version": "3.9.6"
  },
  "orig_nbformat": 4
 },
 "nbformat": 4,
 "nbformat_minor": 2
}
